{
  "nbformat": 4,
  "nbformat_minor": 0,
  "metadata": {
    "colab": {
      "provenance": []
    },
    "kernelspec": {
      "name": "python3",
      "display_name": "Python 3"
    },
    "language_info": {
      "name": "python"
    }
  },
  "cells": [
    {
      "cell_type": "markdown",
      "source": [
        "# Project Akhir: Image Classification Model Deployment\n",
        "---\n",
        "---\n",
        "* Nama: Benjamin Nikholas\n",
        "* Email: benjisturi@gmail.com\n",
        "* Nomor Telp : [6287892677303](wa.me/6287892677303)\n",
        "\n",
        "Kriteria Parameter:\n",
        "1. Dataset yang akan dipakai bebas, namun minimal memiliki 1000 buah gambar.\n",
        "2. Dataset tidak pernah digunakan pada submission kelas machine learning sebelumnya.\n",
        "3. Dataset dibagi menjadi 80% train set dan 20% test set.\n",
        "4. Model harus menggunakan model sequential.\n",
        "5. Model harus menggunakan **Conv2D Maxpooling Layer**.\n",
        "6. Akurasi pada training dan validation set minimal sebesar 80%.\n",
        "7. Menggunakan Callback.\n",
        "8. Membuat plot terhadap akurasi dan loss model.\n",
        "9. Menulis kode untuk menyimpan model ke dalam format **TF-Lite**.\n",
        "\n",
        "---\n",
        "\n",
        "Kriteria target nilai sempurna **(bintang 5)**:\n",
        "1. dataset yang digunakan memiliki minimal 10000 gambar\n",
        "2. akurasi pada training set dan validation set minimal 92%\n",
        "3. memiliki minimal 3 kelas"
      ],
      "metadata": {
        "id": "sPdX0iywnV_U"
      }
    },
    {
      "cell_type": "markdown",
      "source": [
        "### Library and Packages"
      ],
      "metadata": {
        "id": "S70KMi2cT9q6"
      }
    },
    {
      "cell_type": "code",
      "source": [
        "import os\n",
        "import zipfile\n",
        "from google.colab import files\n",
        "import numpy as np\n",
        "import pandas as pd\n",
        "import matplotlib.pyplot as plt\n",
        "%matplotlib inline\n",
        "plt.rcParams['figure.figsize'] = 15, 6\n",
        "import matplotlib.image as mpimg\n",
        "import seaborn as sns\n",
        "import tensorflow as tf\n",
        "from keras import layers\n",
        "from tensorflow.keras import optimizers\n",
        "from tensorflow.keras.models import Sequential\n",
        "import warnings\n",
        "warnings.filterwarnings(\"ignore\")\n",
        "import random\n",
        "from sklearn.utils import check_random_state\n",
        "from sklearn.model_selection import train_test_split\n",
        "from tensorflow.keras.preprocessing.image import ImageDataGenerator\n",
        "import shutil"
      ],
      "metadata": {
        "id": "W5K-zq28bxMp"
      },
      "execution_count": 1,
      "outputs": []
    },
    {
      "cell_type": "code",
      "source": [
        "def SetSeed(seed:int):\n",
        "    os.environ['PYTHONHASHSEED'] = str(seed)\n",
        "    np.random.seed(seed)\n",
        "    random.seed(seed)\n",
        "    tf.random.set_seed(seed)\n",
        "    check_random_state(seed)"
      ],
      "metadata": {
        "id": "Fl25B62TjIAF"
      },
      "execution_count": 2,
      "outputs": []
    },
    {
      "cell_type": "markdown",
      "source": [
        "### Data Download\n",
        "---\n",
        "Data yang digunakan merupakan data image nasi yang didownload dari [kaggle](https://www.kaggle.com/datasets/muratkokludataset/rice-image-dataset)\n",
        "\n",
        "\n",
        "Link lengkap ada dibawah ini:\n",
        "\n",
        "`https://www.kaggle.com/datasets/muratkokludataset/rice-image-dataset`\n",
        "\n",
        "---"
      ],
      "metadata": {
        "id": "VMoa97P95084"
      }
    },
    {
      "cell_type": "code",
      "source": [
        "# Install API Kaggle in Google Colaboratory\n",
        "!pip install kaggle"
      ],
      "metadata": {
        "colab": {
          "base_uri": "https://localhost:8080/"
        },
        "id": "yCarnAwOxIMx",
        "outputId": "c01e6de0-1fa3-4789-c85d-1f8b2fbc98f2"
      },
      "execution_count": 3,
      "outputs": [
        {
          "output_type": "stream",
          "name": "stdout",
          "text": [
            "Requirement already satisfied: kaggle in /usr/local/lib/python3.10/dist-packages (1.5.16)\n",
            "Requirement already satisfied: six>=1.10 in /usr/local/lib/python3.10/dist-packages (from kaggle) (1.16.0)\n",
            "Requirement already satisfied: certifi in /usr/local/lib/python3.10/dist-packages (from kaggle) (2023.11.17)\n",
            "Requirement already satisfied: python-dateutil in /usr/local/lib/python3.10/dist-packages (from kaggle) (2.8.2)\n",
            "Requirement already satisfied: requests in /usr/local/lib/python3.10/dist-packages (from kaggle) (2.31.0)\n",
            "Requirement already satisfied: tqdm in /usr/local/lib/python3.10/dist-packages (from kaggle) (4.66.1)\n",
            "Requirement already satisfied: python-slugify in /usr/local/lib/python3.10/dist-packages (from kaggle) (8.0.1)\n",
            "Requirement already satisfied: urllib3 in /usr/local/lib/python3.10/dist-packages (from kaggle) (2.0.7)\n",
            "Requirement already satisfied: bleach in /usr/local/lib/python3.10/dist-packages (from kaggle) (6.1.0)\n",
            "Requirement already satisfied: webencodings in /usr/local/lib/python3.10/dist-packages (from bleach->kaggle) (0.5.1)\n",
            "Requirement already satisfied: text-unidecode>=1.3 in /usr/local/lib/python3.10/dist-packages (from python-slugify->kaggle) (1.3)\n",
            "Requirement already satisfied: charset-normalizer<4,>=2 in /usr/local/lib/python3.10/dist-packages (from requests->kaggle) (3.3.2)\n",
            "Requirement already satisfied: idna<4,>=2.5 in /usr/local/lib/python3.10/dist-packages (from requests->kaggle) (3.6)\n"
          ]
        }
      ]
    },
    {
      "cell_type": "code",
      "source": [
        "# Upload API JSON File Credential\n",
        "\n",
        "uploaded = files.upload()"
      ],
      "metadata": {
        "colab": {
          "base_uri": "https://localhost:8080/",
          "height": 73
        },
        "id": "Lx8IOCzY4Feu",
        "outputId": "fb8a032f-3446-4489-dc5b-91e1811670b9"
      },
      "execution_count": 4,
      "outputs": [
        {
          "output_type": "display_data",
          "data": {
            "text/plain": [
              "<IPython.core.display.HTML object>"
            ],
            "text/html": [
              "\n",
              "     <input type=\"file\" id=\"files-00567144-f35c-447c-85ea-9998ccfbb08f\" name=\"files[]\" multiple disabled\n",
              "        style=\"border:none\" />\n",
              "     <output id=\"result-00567144-f35c-447c-85ea-9998ccfbb08f\">\n",
              "      Upload widget is only available when the cell has been executed in the\n",
              "      current browser session. Please rerun this cell to enable.\n",
              "      </output>\n",
              "      <script>// Copyright 2017 Google LLC\n",
              "//\n",
              "// Licensed under the Apache License, Version 2.0 (the \"License\");\n",
              "// you may not use this file except in compliance with the License.\n",
              "// You may obtain a copy of the License at\n",
              "//\n",
              "//      http://www.apache.org/licenses/LICENSE-2.0\n",
              "//\n",
              "// Unless required by applicable law or agreed to in writing, software\n",
              "// distributed under the License is distributed on an \"AS IS\" BASIS,\n",
              "// WITHOUT WARRANTIES OR CONDITIONS OF ANY KIND, either express or implied.\n",
              "// See the License for the specific language governing permissions and\n",
              "// limitations under the License.\n",
              "\n",
              "/**\n",
              " * @fileoverview Helpers for google.colab Python module.\n",
              " */\n",
              "(function(scope) {\n",
              "function span(text, styleAttributes = {}) {\n",
              "  const element = document.createElement('span');\n",
              "  element.textContent = text;\n",
              "  for (const key of Object.keys(styleAttributes)) {\n",
              "    element.style[key] = styleAttributes[key];\n",
              "  }\n",
              "  return element;\n",
              "}\n",
              "\n",
              "// Max number of bytes which will be uploaded at a time.\n",
              "const MAX_PAYLOAD_SIZE = 100 * 1024;\n",
              "\n",
              "function _uploadFiles(inputId, outputId) {\n",
              "  const steps = uploadFilesStep(inputId, outputId);\n",
              "  const outputElement = document.getElementById(outputId);\n",
              "  // Cache steps on the outputElement to make it available for the next call\n",
              "  // to uploadFilesContinue from Python.\n",
              "  outputElement.steps = steps;\n",
              "\n",
              "  return _uploadFilesContinue(outputId);\n",
              "}\n",
              "\n",
              "// This is roughly an async generator (not supported in the browser yet),\n",
              "// where there are multiple asynchronous steps and the Python side is going\n",
              "// to poll for completion of each step.\n",
              "// This uses a Promise to block the python side on completion of each step,\n",
              "// then passes the result of the previous step as the input to the next step.\n",
              "function _uploadFilesContinue(outputId) {\n",
              "  const outputElement = document.getElementById(outputId);\n",
              "  const steps = outputElement.steps;\n",
              "\n",
              "  const next = steps.next(outputElement.lastPromiseValue);\n",
              "  return Promise.resolve(next.value.promise).then((value) => {\n",
              "    // Cache the last promise value to make it available to the next\n",
              "    // step of the generator.\n",
              "    outputElement.lastPromiseValue = value;\n",
              "    return next.value.response;\n",
              "  });\n",
              "}\n",
              "\n",
              "/**\n",
              " * Generator function which is called between each async step of the upload\n",
              " * process.\n",
              " * @param {string} inputId Element ID of the input file picker element.\n",
              " * @param {string} outputId Element ID of the output display.\n",
              " * @return {!Iterable<!Object>} Iterable of next steps.\n",
              " */\n",
              "function* uploadFilesStep(inputId, outputId) {\n",
              "  const inputElement = document.getElementById(inputId);\n",
              "  inputElement.disabled = false;\n",
              "\n",
              "  const outputElement = document.getElementById(outputId);\n",
              "  outputElement.innerHTML = '';\n",
              "\n",
              "  const pickedPromise = new Promise((resolve) => {\n",
              "    inputElement.addEventListener('change', (e) => {\n",
              "      resolve(e.target.files);\n",
              "    });\n",
              "  });\n",
              "\n",
              "  const cancel = document.createElement('button');\n",
              "  inputElement.parentElement.appendChild(cancel);\n",
              "  cancel.textContent = 'Cancel upload';\n",
              "  const cancelPromise = new Promise((resolve) => {\n",
              "    cancel.onclick = () => {\n",
              "      resolve(null);\n",
              "    };\n",
              "  });\n",
              "\n",
              "  // Wait for the user to pick the files.\n",
              "  const files = yield {\n",
              "    promise: Promise.race([pickedPromise, cancelPromise]),\n",
              "    response: {\n",
              "      action: 'starting',\n",
              "    }\n",
              "  };\n",
              "\n",
              "  cancel.remove();\n",
              "\n",
              "  // Disable the input element since further picks are not allowed.\n",
              "  inputElement.disabled = true;\n",
              "\n",
              "  if (!files) {\n",
              "    return {\n",
              "      response: {\n",
              "        action: 'complete',\n",
              "      }\n",
              "    };\n",
              "  }\n",
              "\n",
              "  for (const file of files) {\n",
              "    const li = document.createElement('li');\n",
              "    li.append(span(file.name, {fontWeight: 'bold'}));\n",
              "    li.append(span(\n",
              "        `(${file.type || 'n/a'}) - ${file.size} bytes, ` +\n",
              "        `last modified: ${\n",
              "            file.lastModifiedDate ? file.lastModifiedDate.toLocaleDateString() :\n",
              "                                    'n/a'} - `));\n",
              "    const percent = span('0% done');\n",
              "    li.appendChild(percent);\n",
              "\n",
              "    outputElement.appendChild(li);\n",
              "\n",
              "    const fileDataPromise = new Promise((resolve) => {\n",
              "      const reader = new FileReader();\n",
              "      reader.onload = (e) => {\n",
              "        resolve(e.target.result);\n",
              "      };\n",
              "      reader.readAsArrayBuffer(file);\n",
              "    });\n",
              "    // Wait for the data to be ready.\n",
              "    let fileData = yield {\n",
              "      promise: fileDataPromise,\n",
              "      response: {\n",
              "        action: 'continue',\n",
              "      }\n",
              "    };\n",
              "\n",
              "    // Use a chunked sending to avoid message size limits. See b/62115660.\n",
              "    let position = 0;\n",
              "    do {\n",
              "      const length = Math.min(fileData.byteLength - position, MAX_PAYLOAD_SIZE);\n",
              "      const chunk = new Uint8Array(fileData, position, length);\n",
              "      position += length;\n",
              "\n",
              "      const base64 = btoa(String.fromCharCode.apply(null, chunk));\n",
              "      yield {\n",
              "        response: {\n",
              "          action: 'append',\n",
              "          file: file.name,\n",
              "          data: base64,\n",
              "        },\n",
              "      };\n",
              "\n",
              "      let percentDone = fileData.byteLength === 0 ?\n",
              "          100 :\n",
              "          Math.round((position / fileData.byteLength) * 100);\n",
              "      percent.textContent = `${percentDone}% done`;\n",
              "\n",
              "    } while (position < fileData.byteLength);\n",
              "  }\n",
              "\n",
              "  // All done.\n",
              "  yield {\n",
              "    response: {\n",
              "      action: 'complete',\n",
              "    }\n",
              "  };\n",
              "}\n",
              "\n",
              "scope.google = scope.google || {};\n",
              "scope.google.colab = scope.google.colab || {};\n",
              "scope.google.colab._files = {\n",
              "  _uploadFiles,\n",
              "  _uploadFilesContinue,\n",
              "};\n",
              "})(self);\n",
              "</script> "
            ]
          },
          "metadata": {}
        },
        {
          "output_type": "stream",
          "name": "stdout",
          "text": [
            "Saving kaggle.json to kaggle.json\n"
          ]
        }
      ]
    },
    {
      "cell_type": "code",
      "source": [
        "# Move JSON File and giving access\n",
        "\n",
        "!mkdir -p ~/.kaggle\n",
        "!mv kaggle.json ~/.kaggle/\n",
        "!chmod 600 ~/.kaggle/kaggle.json"
      ],
      "metadata": {
        "id": "3-mz2OVO4Him"
      },
      "execution_count": 5,
      "outputs": []
    },
    {
      "cell_type": "code",
      "source": [
        "# Download Dataset\n",
        "\n",
        "!kaggle datasets download -d muratkokludataset/rice-image-dataset"
      ],
      "metadata": {
        "colab": {
          "base_uri": "https://localhost:8080/"
        },
        "id": "i51Mxi0A46lJ",
        "outputId": "28befea6-53a7-45ba-bd96-22b89ba4374b"
      },
      "execution_count": 6,
      "outputs": [
        {
          "output_type": "stream",
          "name": "stdout",
          "text": [
            "Downloading rice-image-dataset.zip to /content\n",
            " 93% 203M/219M [00:01<00:00, 234MB/s]\n",
            "100% 219M/219M [00:01<00:00, 202MB/s]\n"
          ]
        }
      ]
    },
    {
      "cell_type": "code",
      "source": [
        "# Unzip zip file\n",
        "\n",
        "with zipfile.ZipFile('/content/rice-image-dataset.zip', 'r') as zip_ref:\n",
        "    zip_ref.extractall('/content')"
      ],
      "metadata": {
        "id": "60isNe9J5FLv"
      },
      "execution_count": 7,
      "outputs": []
    },
    {
      "cell_type": "code",
      "source": [
        "# Delete txt file\n",
        "\n",
        "file_path = os.path.join('/content/Rice_Image_Dataset', 'Rice_Citation_Request.txt')\n",
        "\n",
        "if os.path.exists(file_path):\n",
        "  os.remove(file_path)\n",
        "  print('200 OK')\n",
        "else:\n",
        "  print('404 NOT FOUND')"
      ],
      "metadata": {
        "colab": {
          "base_uri": "https://localhost:8080/"
        },
        "id": "z6N715wcQ5Ic",
        "outputId": "fa9b6461-add5-4970-95f7-cb25a5bc6e0d"
      },
      "execution_count": 8,
      "outputs": [
        {
          "output_type": "stream",
          "name": "stdout",
          "text": [
            "200 OK\n"
          ]
        }
      ]
    },
    {
      "cell_type": "code",
      "source": [
        "# Check the number of images in each directory\n",
        "\n",
        "rice_image_dir = np.array(os.listdir('/content/Rice_Image_Dataset'))\n",
        "\n",
        "for dir in rice_image_dir:\n",
        "  length_dir = len(os.listdir(f'/content/Rice_Image_Dataset/{dir}'))\n",
        "  print(f'Total {dir} images: {length_dir}')"
      ],
      "metadata": {
        "colab": {
          "base_uri": "https://localhost:8080/"
        },
        "id": "r0e0cv6rRo_3",
        "outputId": "19be5b64-b1c9-430b-b230-4e44e93c4f85"
      },
      "execution_count": 9,
      "outputs": [
        {
          "output_type": "stream",
          "name": "stdout",
          "text": [
            "Total Basmati images: 15000\n",
            "Total Ipsala images: 15000\n",
            "Total Jasmine images: 15000\n",
            "Total Karacadag images: 15000\n",
            "Total Arborio images: 15000\n"
          ]
        }
      ]
    },
    {
      "cell_type": "code",
      "source": [
        "# Directory benchmark\n",
        "\n",
        "rice_image_dir = '/content/Rice_Image_Dataset'\n",
        "output_dir = '/content/Rice_Image_Dataset_Limited'\n",
        "\n",
        "# Limit the number of images to 3000 per directory\n",
        "num_images_per_directory = 3000\n",
        "\n",
        "# Create a new directory for the limited dataset\n",
        "os.makedirs(output_dir, exist_ok=True)\n",
        "\n",
        "for dir_name in os.listdir(rice_image_dir):\n",
        "    current_dir = os.path.join(rice_image_dir, dir_name)\n",
        "    output_subdir = os.path.join(output_dir, dir_name)\n",
        "    os.makedirs(output_subdir, exist_ok = True)\n",
        "\n",
        "    all_images = os.listdir(current_dir)\n",
        "    selected_images = all_images[:num_images_per_directory]\n",
        "\n",
        "    # Copy selected images to the new directory\n",
        "    for image_name in selected_images:\n",
        "        source_path = os.path.join(current_dir, image_name)\n",
        "        destination_path = os.path.join(output_subdir, image_name)\n",
        "        shutil.copyfile(source_path, destination_path)"
      ],
      "metadata": {
        "id": "OYLT-c8EUQuK"
      },
      "execution_count": 10,
      "outputs": []
    },
    {
      "cell_type": "code",
      "source": [
        "# Verify the total number of images\n",
        "\n",
        "total_images = sum([len(files) for _, _, files in os.walk(output_dir)])\n",
        "print(f'Total images: {total_images}')\n",
        "\n",
        "# Create data generators\n",
        "datagen = ImageDataGenerator(rescale=1./255, validation_split=0.2)\n",
        "\n",
        "# Set image shape\n",
        "image_shape = (20, 20)\n",
        "\n",
        "train_generator = datagen.flow_from_directory(\n",
        "    output_dir,\n",
        "    target_size = image_shape,\n",
        "    class_mode = 'categorical',\n",
        "    subset = 'training'\n",
        ")\n",
        "\n",
        "val_generator = datagen.flow_from_directory(\n",
        "    output_dir,\n",
        "    target_size = image_shape,\n",
        "    class_mode = 'categorical',\n",
        "    subset = 'validation'\n",
        ")"
      ],
      "metadata": {
        "colab": {
          "base_uri": "https://localhost:8080/"
        },
        "id": "4b0GJWmLVtlh",
        "outputId": "21e9a7f6-6bb3-450e-e292-242e6fa51fe1"
      },
      "execution_count": 11,
      "outputs": [
        {
          "output_type": "stream",
          "name": "stdout",
          "text": [
            "Total images: 15000\n",
            "Found 12000 images belonging to 5 classes.\n",
            "Found 3000 images belonging to 5 classes.\n"
          ]
        }
      ]
    },
    {
      "cell_type": "markdown",
      "source": [
        "### Exploratory Data Analysis"
      ],
      "metadata": {
        "id": "mwXH9cNGZlay"
      }
    },
    {
      "cell_type": "markdown",
      "source": [
        "### CNN Model"
      ],
      "metadata": {
        "id": "3GCmUnnQr8vF"
      }
    },
    {
      "cell_type": "code",
      "source": [
        "# CNN Model\n",
        "\n",
        "SetSeed(2024)\n",
        "\n",
        "# Set input image shape on first layer\n",
        "input_image = (image_shape, 3)\n",
        "input_image = (*input_image[0], input_image[1])\n",
        "\n",
        "model = Sequential([\n",
        "\n",
        "    # Add Convolutional Layer\n",
        "    layers.Conv2D(64,\n",
        "                  (3,3),\n",
        "                  activation = 'relu',\n",
        "                  input_shape = input_image),\n",
        "    layers.MaxPooling2D(2, 2),\n",
        "\n",
        "    layers.Conv2D(32,\n",
        "                  (3,3),\n",
        "                  activation = 'relu'),\n",
        "    layers.MaxPooling2D(2, 2),\n",
        "\n",
        "    layers.Dropout(0.5),\n",
        "\n",
        "    layers.Flatten(),\n",
        "\n",
        "    # Add Fully Connected Layer\n",
        "    layers.Dense(128,\n",
        "                 activation = 'relu'),\n",
        "    layers.Dense(64,\n",
        "                 activation = 'relu'),\n",
        "    layers.Dense(5,\n",
        "                 activation = 'softmax')\n",
        "])"
      ],
      "metadata": {
        "id": "HM-Wc8Txhpub"
      },
      "execution_count": 12,
      "outputs": []
    },
    {
      "cell_type": "code",
      "source": [
        "# Implement Callbacks\n",
        "\n",
        "SetSeed(2024)\n",
        "\n",
        "EarlyStop = tf.keras.callbacks.EarlyStopping(\n",
        "    monitor = 'accuracy',\n",
        "    min_delta = 0.001,\n",
        "    verbose = 2,\n",
        "    patience = 2,\n",
        "    restore_best_weights = True,\n",
        "    mode = 'max'\n",
        ")"
      ],
      "metadata": {
        "id": "Jk6nSA_Cicws"
      },
      "execution_count": 13,
      "outputs": []
    },
    {
      "cell_type": "code",
      "source": [
        "# Model Compiling\n",
        "\n",
        "model.compile(loss = 'categorical_crossentropy',\n",
        "              optimizer = 'adam',\n",
        "              metrics = 'accuracy')"
      ],
      "metadata": {
        "id": "C4BsHSW-u-q7"
      },
      "execution_count": 14,
      "outputs": []
    },
    {
      "cell_type": "code",
      "source": [
        "# Model Fitting\n",
        "\n",
        "model_fit = model.fit(train_generator,\n",
        "                      validation_data = val_generator,\n",
        "                      epochs = 50,\n",
        "                      verbose = 2,\n",
        "                      batch_size = 64,\n",
        "                      callbacks = EarlyStop)"
      ],
      "metadata": {
        "colab": {
          "base_uri": "https://localhost:8080/"
        },
        "id": "w2b1bY6ivD_M",
        "outputId": "6a4b1bef-b4db-496f-d65e-b203e71932b3"
      },
      "execution_count": 15,
      "outputs": [
        {
          "output_type": "stream",
          "name": "stdout",
          "text": [
            "Epoch 1/50\n",
            "375/375 - 12s - loss: 0.5331 - accuracy: 0.7804 - val_loss: 0.1905 - val_accuracy: 0.9290 - 12s/epoch - 31ms/step\n",
            "Epoch 2/50\n",
            "375/375 - 9s - loss: 0.2673 - accuracy: 0.8947 - val_loss: 0.1272 - val_accuracy: 0.9543 - 9s/epoch - 25ms/step\n",
            "Epoch 3/50\n",
            "375/375 - 10s - loss: 0.2325 - accuracy: 0.9118 - val_loss: 0.1345 - val_accuracy: 0.9493 - 10s/epoch - 28ms/step\n",
            "Epoch 4/50\n",
            "375/375 - 10s - loss: 0.2074 - accuracy: 0.9243 - val_loss: 0.1018 - val_accuracy: 0.9690 - 10s/epoch - 27ms/step\n",
            "Epoch 5/50\n",
            "375/375 - 10s - loss: 0.1889 - accuracy: 0.9321 - val_loss: 0.0973 - val_accuracy: 0.9677 - 10s/epoch - 26ms/step\n",
            "Epoch 6/50\n",
            "375/375 - 9s - loss: 0.1695 - accuracy: 0.9372 - val_loss: 0.0890 - val_accuracy: 0.9657 - 9s/epoch - 23ms/step\n",
            "Epoch 7/50\n",
            "375/375 - 10s - loss: 0.1600 - accuracy: 0.9395 - val_loss: 0.0868 - val_accuracy: 0.9633 - 10s/epoch - 27ms/step\n",
            "Epoch 8/50\n",
            "375/375 - 10s - loss: 0.1451 - accuracy: 0.9477 - val_loss: 0.0973 - val_accuracy: 0.9610 - 10s/epoch - 28ms/step\n",
            "Epoch 9/50\n",
            "375/375 - 10s - loss: 0.1336 - accuracy: 0.9531 - val_loss: 0.0760 - val_accuracy: 0.9717 - 10s/epoch - 27ms/step\n",
            "Epoch 10/50\n",
            "375/375 - 11s - loss: 0.1233 - accuracy: 0.9544 - val_loss: 0.0881 - val_accuracy: 0.9633 - 11s/epoch - 28ms/step\n",
            "Epoch 11/50\n",
            "375/375 - 10s - loss: 0.1113 - accuracy: 0.9602 - val_loss: 0.0601 - val_accuracy: 0.9820 - 10s/epoch - 27ms/step\n",
            "Epoch 12/50\n",
            "375/375 - 10s - loss: 0.1241 - accuracy: 0.9553 - val_loss: 0.0506 - val_accuracy: 0.9817 - 10s/epoch - 26ms/step\n",
            "Epoch 13/50\n",
            "Restoring model weights from the end of the best epoch: 11.\n",
            "375/375 - 9s - loss: 0.1115 - accuracy: 0.9596 - val_loss: 0.0547 - val_accuracy: 0.9807 - 9s/epoch - 24ms/step\n",
            "Epoch 13: early stopping\n"
          ]
        }
      ]
    },
    {
      "cell_type": "code",
      "source": [
        "# Check model fitting history data\n",
        "\n",
        "df_history = pd.DataFrame(model_fit.history)\n",
        "df_history.head()"
      ],
      "metadata": {
        "colab": {
          "base_uri": "https://localhost:8080/",
          "height": 206
        },
        "id": "rkoEFEXHvlpN",
        "outputId": "13e199f4-c165-4f55-a60d-d8cd50dc3489"
      },
      "execution_count": 18,
      "outputs": [
        {
          "output_type": "execute_result",
          "data": {
            "text/plain": [
              "       loss  accuracy  val_loss  val_accuracy\n",
              "0  0.533059  0.780417  0.190487      0.929000\n",
              "1  0.267307  0.894667  0.127243      0.954333\n",
              "2  0.232479  0.911750  0.134544      0.949333\n",
              "3  0.207401  0.924333  0.101802      0.969000\n",
              "4  0.188853  0.932083  0.097276      0.967667"
            ],
            "text/html": [
              "\n",
              "  <div id=\"df-aece62a6-812d-4f08-bd2a-8a386076f548\" class=\"colab-df-container\">\n",
              "    <div>\n",
              "<style scoped>\n",
              "    .dataframe tbody tr th:only-of-type {\n",
              "        vertical-align: middle;\n",
              "    }\n",
              "\n",
              "    .dataframe tbody tr th {\n",
              "        vertical-align: top;\n",
              "    }\n",
              "\n",
              "    .dataframe thead th {\n",
              "        text-align: right;\n",
              "    }\n",
              "</style>\n",
              "<table border=\"1\" class=\"dataframe\">\n",
              "  <thead>\n",
              "    <tr style=\"text-align: right;\">\n",
              "      <th></th>\n",
              "      <th>loss</th>\n",
              "      <th>accuracy</th>\n",
              "      <th>val_loss</th>\n",
              "      <th>val_accuracy</th>\n",
              "    </tr>\n",
              "  </thead>\n",
              "  <tbody>\n",
              "    <tr>\n",
              "      <th>0</th>\n",
              "      <td>0.533059</td>\n",
              "      <td>0.780417</td>\n",
              "      <td>0.190487</td>\n",
              "      <td>0.929000</td>\n",
              "    </tr>\n",
              "    <tr>\n",
              "      <th>1</th>\n",
              "      <td>0.267307</td>\n",
              "      <td>0.894667</td>\n",
              "      <td>0.127243</td>\n",
              "      <td>0.954333</td>\n",
              "    </tr>\n",
              "    <tr>\n",
              "      <th>2</th>\n",
              "      <td>0.232479</td>\n",
              "      <td>0.911750</td>\n",
              "      <td>0.134544</td>\n",
              "      <td>0.949333</td>\n",
              "    </tr>\n",
              "    <tr>\n",
              "      <th>3</th>\n",
              "      <td>0.207401</td>\n",
              "      <td>0.924333</td>\n",
              "      <td>0.101802</td>\n",
              "      <td>0.969000</td>\n",
              "    </tr>\n",
              "    <tr>\n",
              "      <th>4</th>\n",
              "      <td>0.188853</td>\n",
              "      <td>0.932083</td>\n",
              "      <td>0.097276</td>\n",
              "      <td>0.967667</td>\n",
              "    </tr>\n",
              "  </tbody>\n",
              "</table>\n",
              "</div>\n",
              "    <div class=\"colab-df-buttons\">\n",
              "\n",
              "  <div class=\"colab-df-container\">\n",
              "    <button class=\"colab-df-convert\" onclick=\"convertToInteractive('df-aece62a6-812d-4f08-bd2a-8a386076f548')\"\n",
              "            title=\"Convert this dataframe to an interactive table.\"\n",
              "            style=\"display:none;\">\n",
              "\n",
              "  <svg xmlns=\"http://www.w3.org/2000/svg\" height=\"24px\" viewBox=\"0 -960 960 960\">\n",
              "    <path d=\"M120-120v-720h720v720H120Zm60-500h600v-160H180v160Zm220 220h160v-160H400v160Zm0 220h160v-160H400v160ZM180-400h160v-160H180v160Zm440 0h160v-160H620v160ZM180-180h160v-160H180v160Zm440 0h160v-160H620v160Z\"/>\n",
              "  </svg>\n",
              "    </button>\n",
              "\n",
              "  <style>\n",
              "    .colab-df-container {\n",
              "      display:flex;\n",
              "      gap: 12px;\n",
              "    }\n",
              "\n",
              "    .colab-df-convert {\n",
              "      background-color: #E8F0FE;\n",
              "      border: none;\n",
              "      border-radius: 50%;\n",
              "      cursor: pointer;\n",
              "      display: none;\n",
              "      fill: #1967D2;\n",
              "      height: 32px;\n",
              "      padding: 0 0 0 0;\n",
              "      width: 32px;\n",
              "    }\n",
              "\n",
              "    .colab-df-convert:hover {\n",
              "      background-color: #E2EBFA;\n",
              "      box-shadow: 0px 1px 2px rgba(60, 64, 67, 0.3), 0px 1px 3px 1px rgba(60, 64, 67, 0.15);\n",
              "      fill: #174EA6;\n",
              "    }\n",
              "\n",
              "    .colab-df-buttons div {\n",
              "      margin-bottom: 4px;\n",
              "    }\n",
              "\n",
              "    [theme=dark] .colab-df-convert {\n",
              "      background-color: #3B4455;\n",
              "      fill: #D2E3FC;\n",
              "    }\n",
              "\n",
              "    [theme=dark] .colab-df-convert:hover {\n",
              "      background-color: #434B5C;\n",
              "      box-shadow: 0px 1px 3px 1px rgba(0, 0, 0, 0.15);\n",
              "      filter: drop-shadow(0px 1px 2px rgba(0, 0, 0, 0.3));\n",
              "      fill: #FFFFFF;\n",
              "    }\n",
              "  </style>\n",
              "\n",
              "    <script>\n",
              "      const buttonEl =\n",
              "        document.querySelector('#df-aece62a6-812d-4f08-bd2a-8a386076f548 button.colab-df-convert');\n",
              "      buttonEl.style.display =\n",
              "        google.colab.kernel.accessAllowed ? 'block' : 'none';\n",
              "\n",
              "      async function convertToInteractive(key) {\n",
              "        const element = document.querySelector('#df-aece62a6-812d-4f08-bd2a-8a386076f548');\n",
              "        const dataTable =\n",
              "          await google.colab.kernel.invokeFunction('convertToInteractive',\n",
              "                                                    [key], {});\n",
              "        if (!dataTable) return;\n",
              "\n",
              "        const docLinkHtml = 'Like what you see? Visit the ' +\n",
              "          '<a target=\"_blank\" href=https://colab.research.google.com/notebooks/data_table.ipynb>data table notebook</a>'\n",
              "          + ' to learn more about interactive tables.';\n",
              "        element.innerHTML = '';\n",
              "        dataTable['output_type'] = 'display_data';\n",
              "        await google.colab.output.renderOutput(dataTable, element);\n",
              "        const docLink = document.createElement('div');\n",
              "        docLink.innerHTML = docLinkHtml;\n",
              "        element.appendChild(docLink);\n",
              "      }\n",
              "    </script>\n",
              "  </div>\n",
              "\n",
              "\n",
              "<div id=\"df-1105ceca-878f-4195-887d-d2ab5ff651a9\">\n",
              "  <button class=\"colab-df-quickchart\" onclick=\"quickchart('df-1105ceca-878f-4195-887d-d2ab5ff651a9')\"\n",
              "            title=\"Suggest charts\"\n",
              "            style=\"display:none;\">\n",
              "\n",
              "<svg xmlns=\"http://www.w3.org/2000/svg\" height=\"24px\"viewBox=\"0 0 24 24\"\n",
              "     width=\"24px\">\n",
              "    <g>\n",
              "        <path d=\"M19 3H5c-1.1 0-2 .9-2 2v14c0 1.1.9 2 2 2h14c1.1 0 2-.9 2-2V5c0-1.1-.9-2-2-2zM9 17H7v-7h2v7zm4 0h-2V7h2v10zm4 0h-2v-4h2v4z\"/>\n",
              "    </g>\n",
              "</svg>\n",
              "  </button>\n",
              "\n",
              "<style>\n",
              "  .colab-df-quickchart {\n",
              "      --bg-color: #E8F0FE;\n",
              "      --fill-color: #1967D2;\n",
              "      --hover-bg-color: #E2EBFA;\n",
              "      --hover-fill-color: #174EA6;\n",
              "      --disabled-fill-color: #AAA;\n",
              "      --disabled-bg-color: #DDD;\n",
              "  }\n",
              "\n",
              "  [theme=dark] .colab-df-quickchart {\n",
              "      --bg-color: #3B4455;\n",
              "      --fill-color: #D2E3FC;\n",
              "      --hover-bg-color: #434B5C;\n",
              "      --hover-fill-color: #FFFFFF;\n",
              "      --disabled-bg-color: #3B4455;\n",
              "      --disabled-fill-color: #666;\n",
              "  }\n",
              "\n",
              "  .colab-df-quickchart {\n",
              "    background-color: var(--bg-color);\n",
              "    border: none;\n",
              "    border-radius: 50%;\n",
              "    cursor: pointer;\n",
              "    display: none;\n",
              "    fill: var(--fill-color);\n",
              "    height: 32px;\n",
              "    padding: 0;\n",
              "    width: 32px;\n",
              "  }\n",
              "\n",
              "  .colab-df-quickchart:hover {\n",
              "    background-color: var(--hover-bg-color);\n",
              "    box-shadow: 0 1px 2px rgba(60, 64, 67, 0.3), 0 1px 3px 1px rgba(60, 64, 67, 0.15);\n",
              "    fill: var(--button-hover-fill-color);\n",
              "  }\n",
              "\n",
              "  .colab-df-quickchart-complete:disabled,\n",
              "  .colab-df-quickchart-complete:disabled:hover {\n",
              "    background-color: var(--disabled-bg-color);\n",
              "    fill: var(--disabled-fill-color);\n",
              "    box-shadow: none;\n",
              "  }\n",
              "\n",
              "  .colab-df-spinner {\n",
              "    border: 2px solid var(--fill-color);\n",
              "    border-color: transparent;\n",
              "    border-bottom-color: var(--fill-color);\n",
              "    animation:\n",
              "      spin 1s steps(1) infinite;\n",
              "  }\n",
              "\n",
              "  @keyframes spin {\n",
              "    0% {\n",
              "      border-color: transparent;\n",
              "      border-bottom-color: var(--fill-color);\n",
              "      border-left-color: var(--fill-color);\n",
              "    }\n",
              "    20% {\n",
              "      border-color: transparent;\n",
              "      border-left-color: var(--fill-color);\n",
              "      border-top-color: var(--fill-color);\n",
              "    }\n",
              "    30% {\n",
              "      border-color: transparent;\n",
              "      border-left-color: var(--fill-color);\n",
              "      border-top-color: var(--fill-color);\n",
              "      border-right-color: var(--fill-color);\n",
              "    }\n",
              "    40% {\n",
              "      border-color: transparent;\n",
              "      border-right-color: var(--fill-color);\n",
              "      border-top-color: var(--fill-color);\n",
              "    }\n",
              "    60% {\n",
              "      border-color: transparent;\n",
              "      border-right-color: var(--fill-color);\n",
              "    }\n",
              "    80% {\n",
              "      border-color: transparent;\n",
              "      border-right-color: var(--fill-color);\n",
              "      border-bottom-color: var(--fill-color);\n",
              "    }\n",
              "    90% {\n",
              "      border-color: transparent;\n",
              "      border-bottom-color: var(--fill-color);\n",
              "    }\n",
              "  }\n",
              "</style>\n",
              "\n",
              "  <script>\n",
              "    async function quickchart(key) {\n",
              "      const quickchartButtonEl =\n",
              "        document.querySelector('#' + key + ' button');\n",
              "      quickchartButtonEl.disabled = true;  // To prevent multiple clicks.\n",
              "      quickchartButtonEl.classList.add('colab-df-spinner');\n",
              "      try {\n",
              "        const charts = await google.colab.kernel.invokeFunction(\n",
              "            'suggestCharts', [key], {});\n",
              "      } catch (error) {\n",
              "        console.error('Error during call to suggestCharts:', error);\n",
              "      }\n",
              "      quickchartButtonEl.classList.remove('colab-df-spinner');\n",
              "      quickchartButtonEl.classList.add('colab-df-quickchart-complete');\n",
              "    }\n",
              "    (() => {\n",
              "      let quickchartButtonEl =\n",
              "        document.querySelector('#df-1105ceca-878f-4195-887d-d2ab5ff651a9 button');\n",
              "      quickchartButtonEl.style.display =\n",
              "        google.colab.kernel.accessAllowed ? 'block' : 'none';\n",
              "    })();\n",
              "  </script>\n",
              "</div>\n",
              "    </div>\n",
              "  </div>\n"
            ]
          },
          "metadata": {},
          "execution_count": 18
        }
      ]
    },
    {
      "cell_type": "code",
      "source": [
        "# Check accuracy on train and validation data\n",
        "\n",
        "min_accuracy = 0.92\n",
        "\n",
        "print(f'train accuracy > 92% is {df_history.accuracy.max() > min_accuracy}')\n",
        "print(f'validation accuracy > 92% is {df_history.val_accuracy.max() >= min_accuracy}')"
      ],
      "metadata": {
        "colab": {
          "base_uri": "https://localhost:8080/"
        },
        "id": "PJG3lbVvr7Xf",
        "outputId": "f298d4d7-c3ef-4777-9487-9f3bf012c4d9"
      },
      "execution_count": 20,
      "outputs": [
        {
          "output_type": "stream",
          "name": "stdout",
          "text": [
            "train accuracy > 92% is True\n",
            "validation accuracy > 92% is True\n"
          ]
        }
      ]
    },
    {
      "cell_type": "code",
      "source": [
        "# Plot Loss on Training and Validation data\n",
        "\n",
        "plt.plot(df_history.loss, label = 'train loss')\n",
        "plt.plot(df_history.val_loss, label = 'val loss')\n",
        "plt.title('Train and Validation Loss')\n",
        "plt.legend()"
      ],
      "metadata": {
        "colab": {
          "base_uri": "https://localhost:8080/",
          "height": 563
        },
        "id": "p0xEP_tK-wx0",
        "outputId": "58f8ec54-f82a-4370-fa1d-cb8838786a17"
      },
      "execution_count": 21,
      "outputs": [
        {
          "output_type": "execute_result",
          "data": {
            "text/plain": [
              "<matplotlib.legend.Legend at 0x7d3ed8970430>"
            ]
          },
          "metadata": {},
          "execution_count": 21
        },
        {
          "output_type": "display_data",
          "data": {
            "text/plain": [
              "<Figure size 1500x600 with 1 Axes>"
            ],
            "image/png": "[encoded data removed]"
          },
          "metadata": {}
        }
      ]
    },
    {
      "cell_type": "code",
      "source": [
        "# Plot Accuracy on Train and Validation data\n",
        "\n",
        "plt.plot(df_history.accuracy, label = 'train accuracy')\n",
        "plt.plot(df_history.val_accuracy, label = 'val accuracy')\n",
        "plt.title('Train and Validation Accuracy')\n",
        "plt.legend()"
      ],
      "metadata": {
        "colab": {
          "base_uri": "https://localhost:8080/",
          "height": 563
        },
        "id": "5jk8Yr59sTfg",
        "outputId": "78138182-b4a6-4b21-f2e9-bf3a426826a7"
      },
      "execution_count": 22,
      "outputs": [
        {
          "output_type": "execute_result",
          "data": {
            "text/plain": [
              "<matplotlib.legend.Legend at 0x7d3ed8818040>"
            ]
          },
          "metadata": {},
          "execution_count": 22
        },
        {
          "output_type": "display_data",
          "data": {
            "text/plain": [
              "<Figure size 1500x600 with 1 Axes>"
            ],
            "image/png": "[encoded data removed]"
          },
          "metadata": {}
        }
      ]
    },
    {
      "cell_type": "markdown",
      "source": [
        "### Model Deployment"
      ],
      "metadata": {
        "id": "Yxn_T-JNxWEJ"
      }
    },
    {
      "cell_type": "code",
      "source": [
        "# Save model\n",
        "\n",
        "save_path = 'mymodel/'\n",
        "tf.saved_model.save(model, save_path)"
      ],
      "metadata": {
        "id": "lJDlkL_Tv2_6"
      },
      "execution_count": null,
      "outputs": []
    },
    {
      "cell_type": "code",
      "source": [
        "# Convert model format in SavedModel to TensorFlow Lite\n",
        "\n",
        "converter = tf.lite.TFLiteConverter.from_saved_model('/content/mymodel')\n",
        "tflite_model = converter.convert()\n",
        "\n",
        "with tf.io.gfile.GFile('CNNModel_Benjamin.tflite', 'wb') as f:\n",
        "    f.write(tflite_model)"
      ],
      "metadata": {
        "id": "pUWrlS8I5atd"
      },
      "execution_count": null,
      "outputs": []
    },
    {
      "cell_type": "code",
      "source": [],
      "metadata": {
        "id": "3XrO9dif4cEb"
      },
      "execution_count": null,
      "outputs": []
    }
  ]
}