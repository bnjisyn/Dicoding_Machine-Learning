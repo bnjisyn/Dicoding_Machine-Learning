{
  "nbformat": 4,
  "nbformat_minor": 0,
  "metadata": {
    "colab": {
      "provenance": []
    },
    "kernelspec": {
      "name": "python3",
      "display_name": "Python 3"
    },
    "language_info": {
      "name": "python"
    }
  },
  "cells": [
    {
      "cell_type": "markdown",
      "source": [
        "# Project Pertama: Membuat model NLP dengan TensorFlow\n",
        "---\n",
        "---\n",
        "* Nama: Benjamin Nikholas\n",
        "* Email: benjisturi@gmail.com\n",
        "* Nomor Telp : [6287892677303](wa.me/6287892677303)\n",
        "\n",
        "Kriteria Parameter:\n",
        "1. Dataset yang akan dipakai bebas, namun minimal memiliki 1000 sampel.\n",
        "2. Harus menggunakan LSTM dalam arsitektur model.\n",
        "3. Harus menggunakan model sequential.\n",
        "4. Validation set sebesar 20% dari total dataset.\n",
        "5. Harus menggunakan Embedding.\n",
        "6. Harus menggunakan fungsi tokenizer.\n",
        "7. Akurasi dari model minimal 75% pada train set dan validation set.\n",
        "\n",
        "---\n",
        "\n",
        "Kriteria target nilai sempurna **(bintang 5)**:\n",
        "1. dataset memiliki 3 kelas atau lebih\n",
        "2. dataset memiliki minimal 2000 sampel data\n",
        "3. akurasi pada training set dan validation set\n",
        "4. Mengimplementasikan Callback\n",
        "5. Membuat plot loss dan akurasi pada saat training dari validation set"
      ],
      "metadata": {
        "id": "sPdX0iywnV_U"
      }
    },
    {
      "cell_type": "code",
      "source": [
        "import os\n",
        "import random\n",
        "import numpy as np\n",
        "import pandas as pd\n",
        "import matplotlib.pyplot as plt\n",
        "import seaborn as sns\n",
        "import warnings\n",
        "from sklearn.model_selection import train_test_split\n",
        "from sklearn.utils import check_random_state\n",
        "import tensorflow as tf\n",
        "from tensorflow.keras import Sequential, layers, regularizers, optimizers\n",
        "from tensorflow.keras.preprocessing.text import Tokenizer\n",
        "from tensorflow.keras.preprocessing.sequence import pad_sequences\n",
        "\n",
        "warnings.filterwarnings(\"ignore\")\n",
        "plt.figure(figsize=(8, 6))"
      ],
      "metadata": {
        "colab": {
          "base_uri": "https://localhost:8080/",
          "height": 53
        },
        "id": "EIhUlBAZFOi2",
        "outputId": "9e9f3dd6-e3a7-4438-fc3e-41832e85d257"
      },
      "execution_count": 30,
      "outputs": [
        {
          "output_type": "execute_result",
          "data": {
            "text/plain": [
              "<Figure size 800x600 with 0 Axes>"
            ]
          },
          "metadata": {},
          "execution_count": 30
        },
        {
          "output_type": "display_data",
          "data": {
            "text/plain": [
              "<Figure size 800x600 with 0 Axes>"
            ]
          },
          "metadata": {}
        }
      ]
    },
    {
      "cell_type": "code",
      "source": [
        "# Check data info\n",
        "\n",
        "df_movies = pd.read_csv('/content/imdb_movies.csv')\n",
        "df_movies.info()"
      ],
      "metadata": {
        "colab": {
          "base_uri": "https://localhost:8080/"
        },
        "id": "Pta9lBqXKLQ7",
        "outputId": "4d08be1c-3fea-48fa-e900-cbfef51d6c8e"
      },
      "execution_count": 3,
      "outputs": [
        {
          "output_type": "stream",
          "name": "stdout",
          "text": [
            "<class 'pandas.core.frame.DataFrame'>\n",
            "RangeIndex: 10178 entries, 0 to 10177\n",
            "Data columns (total 12 columns):\n",
            " #   Column      Non-Null Count  Dtype  \n",
            "---  ------      --------------  -----  \n",
            " 0   names       10178 non-null  object \n",
            " 1   date_x      10178 non-null  object \n",
            " 2   score       10178 non-null  float64\n",
            " 3   genre       10093 non-null  object \n",
            " 4   overview    10178 non-null  object \n",
            " 5   crew        10122 non-null  object \n",
            " 6   orig_title  10178 non-null  object \n",
            " 7   status      10178 non-null  object \n",
            " 8   orig_lang   10178 non-null  object \n",
            " 9   budget_x    10178 non-null  float64\n",
            " 10  revenue     10178 non-null  float64\n",
            " 11  country     10178 non-null  object \n",
            "dtypes: float64(3), object(9)\n",
            "memory usage: 954.3+ KB\n"
          ]
        }
      ]
    },
    {
      "cell_type": "code",
      "source": [
        "# Checking and Dropping columns with NaN\n",
        "\n",
        "for cols in df_movies.columns:\n",
        "\n",
        "  # Count value on each column with no NaN value\n",
        "  data_length = len(df_movies[cols].dropna())\n",
        "\n",
        "  # Drop Columns with incomplete data/value (NaN)\n",
        "  if data_length != len(df_movies):\n",
        "    print(cols)\n",
        "    df_movies.drop(cols, axis = 1, inplace = True)\n",
        "\n",
        "df_movies.info()"
      ],
      "metadata": {
        "colab": {
          "base_uri": "https://localhost:8080/"
        },
        "id": "CFyvqcj1hBuo",
        "outputId": "df2adb79-844a-49ba-e268-483042c96f28"
      },
      "execution_count": 4,
      "outputs": [
        {
          "output_type": "stream",
          "name": "stdout",
          "text": [
            "genre\n",
            "crew\n",
            "<class 'pandas.core.frame.DataFrame'>\n",
            "RangeIndex: 10178 entries, 0 to 10177\n",
            "Data columns (total 10 columns):\n",
            " #   Column      Non-Null Count  Dtype  \n",
            "---  ------      --------------  -----  \n",
            " 0   names       10178 non-null  object \n",
            " 1   date_x      10178 non-null  object \n",
            " 2   score       10178 non-null  float64\n",
            " 3   overview    10178 non-null  object \n",
            " 4   orig_title  10178 non-null  object \n",
            " 5   status      10178 non-null  object \n",
            " 6   orig_lang   10178 non-null  object \n",
            " 7   budget_x    10178 non-null  float64\n",
            " 8   revenue     10178 non-null  float64\n",
            " 9   country     10178 non-null  object \n",
            "dtypes: float64(3), object(7)\n",
            "memory usage: 795.3+ KB\n"
          ]
        }
      ]
    },
    {
      "cell_type": "code",
      "source": [
        "# Initialize random number generator to ensure reproducibility\n",
        "\n",
        "def SetSeed(seed:int):\n",
        "    os.environ['PYTHONHASHSEED'] = str(seed)\n",
        "    np.random.seed(seed)\n",
        "    random.seed(seed)\n",
        "    tf.random.set_seed(seed)\n",
        "    check_random_state(seed)"
      ],
      "metadata": {
        "id": "Zjhgf8TxG6XF"
      },
      "execution_count": 5,
      "outputs": []
    },
    {
      "cell_type": "code",
      "source": [
        "for i in df_movies.columns:\n",
        "  print(f'unique values on {i} : {len(df_movies[i].unique())}')\n",
        "  if len(df_movies[i].unique()) < 10:\n",
        "    print(df_movies[i].unique())"
      ],
      "metadata": {
        "colab": {
          "base_uri": "https://localhost:8080/"
        },
        "id": "YgeVYWlAV7Ld",
        "outputId": "2e1b2a6d-6e0c-45c4-8fc3-1971b73a29fa"
      },
      "execution_count": 6,
      "outputs": [
        {
          "output_type": "stream",
          "name": "stdout",
          "text": [
            "unique values on names : 9660\n",
            "unique values on date_x : 5688\n",
            "unique values on score : 79\n",
            "unique values on overview : 9905\n",
            "unique values on orig_title : 9736\n",
            "unique values on status : 3\n",
            "[' Released' ' Post Production' ' In Production']\n",
            "unique values on orig_lang : 54\n",
            "unique values on budget_x : 2316\n",
            "unique values on revenue : 8227\n",
            "unique values on country : 60\n"
          ]
        }
      ]
    },
    {
      "cell_type": "code",
      "source": [
        "df_movie_status = df_movies[['names','status']]\n",
        "df_movie_status.info()"
      ],
      "metadata": {
        "colab": {
          "base_uri": "https://localhost:8080/"
        },
        "id": "VqxeqMYMeaq1",
        "outputId": "e7ec6de2-777c-4d03-ea6d-b639a5a3749e"
      },
      "execution_count": 7,
      "outputs": [
        {
          "output_type": "stream",
          "name": "stdout",
          "text": [
            "<class 'pandas.core.frame.DataFrame'>\n",
            "RangeIndex: 10178 entries, 0 to 10177\n",
            "Data columns (total 2 columns):\n",
            " #   Column  Non-Null Count  Dtype \n",
            "---  ------  --------------  ----- \n",
            " 0   names   10178 non-null  object\n",
            " 1   status  10178 non-null  object\n",
            "dtypes: object(2)\n",
            "memory usage: 159.2+ KB\n"
          ]
        }
      ]
    },
    {
      "cell_type": "code",
      "source": [
        "# Check new dataframe\n",
        "\n",
        "df_status = pd.get_dummies(df_movies.status)\n",
        "df_movies = pd.concat([df_movie_status, df_status], axis = 1)\n",
        "df_movies.drop(columns = 'status', inplace = True)\n",
        "df_movies"
      ],
      "metadata": {
        "colab": {
          "base_uri": "https://localhost:8080/",
          "height": 423
        },
        "id": "JxNRcvSyeJl5",
        "outputId": "e32eb6bd-1efc-4e38-e5ea-46a32fd5daef"
      },
      "execution_count": 8,
      "outputs": [
        {
          "output_type": "execute_result",
          "data": {
            "text/plain": [
              "                                         names   In Production  \\\n",
              "0                                    Creed III               0   \n",
              "1                     Avatar: The Way of Water               0   \n",
              "2                  The Super Mario Bros. Movie               0   \n",
              "3                                      Mummies               0   \n",
              "4                                    Supercell               0   \n",
              "...                                        ...             ...   \n",
              "10173                       20th Century Women               0   \n",
              "10174  Delta Force 2: The Colombian Connection               0   \n",
              "10175                         The Russia House               0   \n",
              "10176         Darkman II: The Return of Durant               0   \n",
              "10177       The Swan Princess: A Royal Wedding               0   \n",
              "\n",
              "        Post Production   Released  \n",
              "0                     0          1  \n",
              "1                     0          1  \n",
              "2                     0          1  \n",
              "3                     0          1  \n",
              "4                     0          1  \n",
              "...                 ...        ...  \n",
              "10173                 0          1  \n",
              "10174                 0          1  \n",
              "10175                 0          1  \n",
              "10176                 0          1  \n",
              "10177                 0          1  \n",
              "\n",
              "[10178 rows x 4 columns]"
            ],
            "text/html": [
              "\n",
              "  <div id=\"df-00e43c6c-4560-4c18-8f69-ec3e9d515d1e\" class=\"colab-df-container\">\n",
              "    <div>\n",
              "<style scoped>\n",
              "    .dataframe tbody tr th:only-of-type {\n",
              "        vertical-align: middle;\n",
              "    }\n",
              "\n",
              "    .dataframe tbody tr th {\n",
              "        vertical-align: top;\n",
              "    }\n",
              "\n",
              "    .dataframe thead th {\n",
              "        text-align: right;\n",
              "    }\n",
              "</style>\n",
              "<table border=\"1\" class=\"dataframe\">\n",
              "  <thead>\n",
              "    <tr style=\"text-align: right;\">\n",
              "      <th></th>\n",
              "      <th>names</th>\n",
              "      <th>In Production</th>\n",
              "      <th>Post Production</th>\n",
              "      <th>Released</th>\n",
              "    </tr>\n",
              "  </thead>\n",
              "  <tbody>\n",
              "    <tr>\n",
              "      <th>0</th>\n",
              "      <td>Creed III</td>\n",
              "      <td>0</td>\n",
              "      <td>0</td>\n",
              "      <td>1</td>\n",
              "    </tr>\n",
              "    <tr>\n",
              "      <th>1</th>\n",
              "      <td>Avatar: The Way of Water</td>\n",
              "      <td>0</td>\n",
              "      <td>0</td>\n",
              "      <td>1</td>\n",
              "    </tr>\n",
              "    <tr>\n",
              "      <th>2</th>\n",
              "      <td>The Super Mario Bros. Movie</td>\n",
              "      <td>0</td>\n",
              "      <td>0</td>\n",
              "      <td>1</td>\n",
              "    </tr>\n",
              "    <tr>\n",
              "      <th>3</th>\n",
              "      <td>Mummies</td>\n",
              "      <td>0</td>\n",
              "      <td>0</td>\n",
              "      <td>1</td>\n",
              "    </tr>\n",
              "    <tr>\n",
              "      <th>4</th>\n",
              "      <td>Supercell</td>\n",
              "      <td>0</td>\n",
              "      <td>0</td>\n",
              "      <td>1</td>\n",
              "    </tr>\n",
              "    <tr>\n",
              "      <th>...</th>\n",
              "      <td>...</td>\n",
              "      <td>...</td>\n",
              "      <td>...</td>\n",
              "      <td>...</td>\n",
              "    </tr>\n",
              "    <tr>\n",
              "      <th>10173</th>\n",
              "      <td>20th Century Women</td>\n",
              "      <td>0</td>\n",
              "      <td>0</td>\n",
              "      <td>1</td>\n",
              "    </tr>\n",
              "    <tr>\n",
              "      <th>10174</th>\n",
              "      <td>Delta Force 2: The Colombian Connection</td>\n",
              "      <td>0</td>\n",
              "      <td>0</td>\n",
              "      <td>1</td>\n",
              "    </tr>\n",
              "    <tr>\n",
              "      <th>10175</th>\n",
              "      <td>The Russia House</td>\n",
              "      <td>0</td>\n",
              "      <td>0</td>\n",
              "      <td>1</td>\n",
              "    </tr>\n",
              "    <tr>\n",
              "      <th>10176</th>\n",
              "      <td>Darkman II: The Return of Durant</td>\n",
              "      <td>0</td>\n",
              "      <td>0</td>\n",
              "      <td>1</td>\n",
              "    </tr>\n",
              "    <tr>\n",
              "      <th>10177</th>\n",
              "      <td>The Swan Princess: A Royal Wedding</td>\n",
              "      <td>0</td>\n",
              "      <td>0</td>\n",
              "      <td>1</td>\n",
              "    </tr>\n",
              "  </tbody>\n",
              "</table>\n",
              "<p>10178 rows × 4 columns</p>\n",
              "</div>\n",
              "    <div class=\"colab-df-buttons\">\n",
              "\n",
              "  <div class=\"colab-df-container\">\n",
              "    <button class=\"colab-df-convert\" onclick=\"convertToInteractive('df-00e43c6c-4560-4c18-8f69-ec3e9d515d1e')\"\n",
              "            title=\"Convert this dataframe to an interactive table.\"\n",
              "            style=\"display:none;\">\n",
              "\n",
              "  <svg xmlns=\"http://www.w3.org/2000/svg\" height=\"24px\" viewBox=\"0 -960 960 960\">\n",
              "    <path d=\"M120-120v-720h720v720H120Zm60-500h600v-160H180v160Zm220 220h160v-160H400v160Zm0 220h160v-160H400v160ZM180-400h160v-160H180v160Zm440 0h160v-160H620v160ZM180-180h160v-160H180v160Zm440 0h160v-160H620v160Z\"/>\n",
              "  </svg>\n",
              "    </button>\n",
              "\n",
              "  <style>\n",
              "    .colab-df-container {\n",
              "      display:flex;\n",
              "      gap: 12px;\n",
              "    }\n",
              "\n",
              "    .colab-df-convert {\n",
              "      background-color: #E8F0FE;\n",
              "      border: none;\n",
              "      border-radius: 50%;\n",
              "      cursor: pointer;\n",
              "      display: none;\n",
              "      fill: #1967D2;\n",
              "      height: 32px;\n",
              "      padding: 0 0 0 0;\n",
              "      width: 32px;\n",
              "    }\n",
              "\n",
              "    .colab-df-convert:hover {\n",
              "      background-color: #E2EBFA;\n",
              "      box-shadow: 0px 1px 2px rgba(60, 64, 67, 0.3), 0px 1px 3px 1px rgba(60, 64, 67, 0.15);\n",
              "      fill: #174EA6;\n",
              "    }\n",
              "\n",
              "    .colab-df-buttons div {\n",
              "      margin-bottom: 4px;\n",
              "    }\n",
              "\n",
              "    [theme=dark] .colab-df-convert {\n",
              "      background-color: #3B4455;\n",
              "      fill: #D2E3FC;\n",
              "    }\n",
              "\n",
              "    [theme=dark] .colab-df-convert:hover {\n",
              "      background-color: #434B5C;\n",
              "      box-shadow: 0px 1px 3px 1px rgba(0, 0, 0, 0.15);\n",
              "      filter: drop-shadow(0px 1px 2px rgba(0, 0, 0, 0.3));\n",
              "      fill: #FFFFFF;\n",
              "    }\n",
              "  </style>\n",
              "\n",
              "    <script>\n",
              "      const buttonEl =\n",
              "        document.querySelector('#df-00e43c6c-4560-4c18-8f69-ec3e9d515d1e button.colab-df-convert');\n",
              "      buttonEl.style.display =\n",
              "        google.colab.kernel.accessAllowed ? 'block' : 'none';\n",
              "\n",
              "      async function convertToInteractive(key) {\n",
              "        const element = document.querySelector('#df-00e43c6c-4560-4c18-8f69-ec3e9d515d1e');\n",
              "        const dataTable =\n",
              "          await google.colab.kernel.invokeFunction('convertToInteractive',\n",
              "                                                    [key], {});\n",
              "        if (!dataTable) return;\n",
              "\n",
              "        const docLinkHtml = 'Like what you see? Visit the ' +\n",
              "          '<a target=\"_blank\" href=https://colab.research.google.com/notebooks/data_table.ipynb>data table notebook</a>'\n",
              "          + ' to learn more about interactive tables.';\n",
              "        element.innerHTML = '';\n",
              "        dataTable['output_type'] = 'display_data';\n",
              "        await google.colab.output.renderOutput(dataTable, element);\n",
              "        const docLink = document.createElement('div');\n",
              "        docLink.innerHTML = docLinkHtml;\n",
              "        element.appendChild(docLink);\n",
              "      }\n",
              "    </script>\n",
              "  </div>\n",
              "\n",
              "\n",
              "<div id=\"df-f4cf3866-ad28-4063-9da0-0aacc3d6a0f5\">\n",
              "  <button class=\"colab-df-quickchart\" onclick=\"quickchart('df-f4cf3866-ad28-4063-9da0-0aacc3d6a0f5')\"\n",
              "            title=\"Suggest charts\"\n",
              "            style=\"display:none;\">\n",
              "\n",
              "<svg xmlns=\"http://www.w3.org/2000/svg\" height=\"24px\"viewBox=\"0 0 24 24\"\n",
              "     width=\"24px\">\n",
              "    <g>\n",
              "        <path d=\"M19 3H5c-1.1 0-2 .9-2 2v14c0 1.1.9 2 2 2h14c1.1 0 2-.9 2-2V5c0-1.1-.9-2-2-2zM9 17H7v-7h2v7zm4 0h-2V7h2v10zm4 0h-2v-4h2v4z\"/>\n",
              "    </g>\n",
              "</svg>\n",
              "  </button>\n",
              "\n",
              "<style>\n",
              "  .colab-df-quickchart {\n",
              "      --bg-color: #E8F0FE;\n",
              "      --fill-color: #1967D2;\n",
              "      --hover-bg-color: #E2EBFA;\n",
              "      --hover-fill-color: #174EA6;\n",
              "      --disabled-fill-color: #AAA;\n",
              "      --disabled-bg-color: #DDD;\n",
              "  }\n",
              "\n",
              "  [theme=dark] .colab-df-quickchart {\n",
              "      --bg-color: #3B4455;\n",
              "      --fill-color: #D2E3FC;\n",
              "      --hover-bg-color: #434B5C;\n",
              "      --hover-fill-color: #FFFFFF;\n",
              "      --disabled-bg-color: #3B4455;\n",
              "      --disabled-fill-color: #666;\n",
              "  }\n",
              "\n",
              "  .colab-df-quickchart {\n",
              "    background-color: var(--bg-color);\n",
              "    border: none;\n",
              "    border-radius: 50%;\n",
              "    cursor: pointer;\n",
              "    display: none;\n",
              "    fill: var(--fill-color);\n",
              "    height: 32px;\n",
              "    padding: 0;\n",
              "    width: 32px;\n",
              "  }\n",
              "\n",
              "  .colab-df-quickchart:hover {\n",
              "    background-color: var(--hover-bg-color);\n",
              "    box-shadow: 0 1px 2px rgba(60, 64, 67, 0.3), 0 1px 3px 1px rgba(60, 64, 67, 0.15);\n",
              "    fill: var(--button-hover-fill-color);\n",
              "  }\n",
              "\n",
              "  .colab-df-quickchart-complete:disabled,\n",
              "  .colab-df-quickchart-complete:disabled:hover {\n",
              "    background-color: var(--disabled-bg-color);\n",
              "    fill: var(--disabled-fill-color);\n",
              "    box-shadow: none;\n",
              "  }\n",
              "\n",
              "  .colab-df-spinner {\n",
              "    border: 2px solid var(--fill-color);\n",
              "    border-color: transparent;\n",
              "    border-bottom-color: var(--fill-color);\n",
              "    animation:\n",
              "      spin 1s steps(1) infinite;\n",
              "  }\n",
              "\n",
              "  @keyframes spin {\n",
              "    0% {\n",
              "      border-color: transparent;\n",
              "      border-bottom-color: var(--fill-color);\n",
              "      border-left-color: var(--fill-color);\n",
              "    }\n",
              "    20% {\n",
              "      border-color: transparent;\n",
              "      border-left-color: var(--fill-color);\n",
              "      border-top-color: var(--fill-color);\n",
              "    }\n",
              "    30% {\n",
              "      border-color: transparent;\n",
              "      border-left-color: var(--fill-color);\n",
              "      border-top-color: var(--fill-color);\n",
              "      border-right-color: var(--fill-color);\n",
              "    }\n",
              "    40% {\n",
              "      border-color: transparent;\n",
              "      border-right-color: var(--fill-color);\n",
              "      border-top-color: var(--fill-color);\n",
              "    }\n",
              "    60% {\n",
              "      border-color: transparent;\n",
              "      border-right-color: var(--fill-color);\n",
              "    }\n",
              "    80% {\n",
              "      border-color: transparent;\n",
              "      border-right-color: var(--fill-color);\n",
              "      border-bottom-color: var(--fill-color);\n",
              "    }\n",
              "    90% {\n",
              "      border-color: transparent;\n",
              "      border-bottom-color: var(--fill-color);\n",
              "    }\n",
              "  }\n",
              "</style>\n",
              "\n",
              "  <script>\n",
              "    async function quickchart(key) {\n",
              "      const quickchartButtonEl =\n",
              "        document.querySelector('#' + key + ' button');\n",
              "      quickchartButtonEl.disabled = true;  // To prevent multiple clicks.\n",
              "      quickchartButtonEl.classList.add('colab-df-spinner');\n",
              "      try {\n",
              "        const charts = await google.colab.kernel.invokeFunction(\n",
              "            'suggestCharts', [key], {});\n",
              "      } catch (error) {\n",
              "        console.error('Error during call to suggestCharts:', error);\n",
              "      }\n",
              "      quickchartButtonEl.classList.remove('colab-df-spinner');\n",
              "      quickchartButtonEl.classList.add('colab-df-quickchart-complete');\n",
              "    }\n",
              "    (() => {\n",
              "      let quickchartButtonEl =\n",
              "        document.querySelector('#df-f4cf3866-ad28-4063-9da0-0aacc3d6a0f5 button');\n",
              "      quickchartButtonEl.style.display =\n",
              "        google.colab.kernel.accessAllowed ? 'block' : 'none';\n",
              "    })();\n",
              "  </script>\n",
              "</div>\n",
              "    </div>\n",
              "  </div>\n"
            ]
          },
          "metadata": {},
          "execution_count": 8
        }
      ]
    },
    {
      "cell_type": "code",
      "source": [
        "# Membagi data menjadi train (80%) dan validation (20%)\n",
        "X = df_movies['names'].values\n",
        "y = df_movies.iloc[:, 1:].values\n",
        "\n",
        "X_train, X_val, y_train, y_val = train_test_split(X, y,\n",
        "                                                  train_size = 0.8,\n",
        "                                                  random_state = 10)"
      ],
      "metadata": {
        "id": "Cvrp5b7-RBDd"
      },
      "execution_count": 9,
      "outputs": []
    },
    {
      "cell_type": "markdown",
      "source": [
        "### Tokenizer"
      ],
      "metadata": {
        "id": "ow-L_hI1Fm40"
      }
    },
    {
      "cell_type": "code",
      "source": [
        "tokenizer = Tokenizer(num_words = 5000, oov_token = 'X')\n",
        "\n",
        "# Fit tokenizer on text data\n",
        "tokenizer.fit_on_texts(X_train)\n",
        "tokenizer.fit_on_texts(X_val)\n",
        "\n",
        "# Implement Tokenization on train dan validation data\n",
        "X_train_tokenized = tokenizer.texts_to_sequences(X_train)\n",
        "X_val_tokenized = tokenizer.texts_to_sequences(X_val)"
      ],
      "metadata": {
        "id": "KarSDvH7YeWg"
      },
      "execution_count": 16,
      "outputs": []
    },
    {
      "cell_type": "markdown",
      "source": [
        "### Padding Sequence"
      ],
      "metadata": {
        "id": "wj8QmzUYFqKH"
      }
    },
    {
      "cell_type": "code",
      "source": [
        "max_length = 20\n",
        "X_train_padded = pad_sequences(X_train_tokenized,\n",
        "                               maxlen = max_length)\n",
        "\n",
        "X_val_padded = pad_sequences(X_val_tokenized,\n",
        "                             maxlen = max_length)"
      ],
      "metadata": {
        "id": "m401DTs1jEi9"
      },
      "execution_count": 19,
      "outputs": []
    },
    {
      "cell_type": "markdown",
      "source": [
        "### LSTM Model"
      ],
      "metadata": {
        "id": "RYXfEd3pKOAi"
      }
    },
    {
      "cell_type": "code",
      "source": [
        "# LSTM Model\n",
        "\n",
        "SetSeed(2024)\n",
        "\n",
        "model = Sequential([\n",
        "\n",
        "    # Add Embedding layer\n",
        "    layers.Embedding(input_dim = 5000,\n",
        "                     output_dim = 16),\n",
        "\n",
        "    # Add LSTM Layer\n",
        "    layers.LSTM(units = 64),\n",
        "    layers.Dropout(0.2),\n",
        "\n",
        "    # Add Fully Connected Layer\n",
        "    layers.Dense(units = 128,\n",
        "                 activation = 'relu',\n",
        "                 kernel_regularizer = regularizers.l2(0.01)),\n",
        "    layers.Dense(units = 128,\n",
        "                 activation = 'relu'),\n",
        "    layers.Dropout(0.5),\n",
        "    layers.Dense(units = 3,\n",
        "                 activation = 'softmax'),\n",
        "])"
      ],
      "metadata": {
        "id": "4rGHzKbgiAj4"
      },
      "execution_count": 28,
      "outputs": []
    },
    {
      "cell_type": "code",
      "source": [
        "# Compiling model\n",
        "\n",
        "SetSeed(2024)\n",
        "\n",
        "# AMSGrad Optimizer\n",
        "AMSGrad = optimizers.Adam(amsgrad = True, name = 'Adam')\n",
        "\n",
        "model.compile(loss = 'categorical_crossentropy',\n",
        "              metrics = 'accuracy',\n",
        "              optimizer = AMSGrad)"
      ],
      "metadata": {
        "id": "SoUDRwPlctOK"
      },
      "execution_count": 31,
      "outputs": []
    },
    {
      "cell_type": "code",
      "source": [
        "# Callbacks implementation\n",
        "\n",
        "EarlyStop = tf.keras.callbacks.EarlyStopping(\n",
        "    monitor = 'val_loss',\n",
        "    min_delta = 0.001,\n",
        "    verbose = 2,\n",
        "    patience = 5,\n",
        "    restore_best_weights = True,\n",
        "    mode = 'min'\n",
        ")"
      ],
      "metadata": {
        "id": "sriFISfudZbC"
      },
      "execution_count": 32,
      "outputs": []
    },
    {
      "cell_type": "code",
      "source": [
        "# Model Fitting\n",
        "\n",
        "SetSeed(2024)\n",
        "\n",
        "model_fit = model.fit(X_train_padded, y_train,\n",
        "                      epochs = 50,\n",
        "                      validation_data = (X_val_padded, y_val),\n",
        "                      verbose = 2,\n",
        "                      callbacks = EarlyStop)"
      ],
      "metadata": {
        "colab": {
          "base_uri": "https://localhost:8080/"
        },
        "id": "wbLjVbfsXi-z",
        "outputId": "5257c1a5-8dbc-4b25-a25d-3698bb7f6eaa"
      },
      "execution_count": 33,
      "outputs": [
        {
          "output_type": "stream",
          "name": "stdout",
          "text": [
            "Epoch 1/50\n",
            "255/255 - 7s - loss: 0.3159 - accuracy: 0.9942 - val_loss: 0.0488 - val_accuracy: 0.9961 - 7s/epoch - 27ms/step\n",
            "Epoch 2/50\n",
            "255/255 - 4s - loss: 0.0469 - accuracy: 0.9952 - val_loss: 0.0333 - val_accuracy: 0.9961 - 4s/epoch - 14ms/step\n",
            "Epoch 3/50\n",
            "255/255 - 3s - loss: 0.0419 - accuracy: 0.9952 - val_loss: 0.0295 - val_accuracy: 0.9961 - 3s/epoch - 12ms/step\n",
            "Epoch 4/50\n",
            "255/255 - 3s - loss: 0.0391 - accuracy: 0.9952 - val_loss: 0.0305 - val_accuracy: 0.9961 - 3s/epoch - 12ms/step\n",
            "Epoch 5/50\n",
            "255/255 - 4s - loss: 0.0342 - accuracy: 0.9952 - val_loss: 0.0304 - val_accuracy: 0.9961 - 4s/epoch - 16ms/step\n",
            "Epoch 6/50\n",
            "255/255 - 3s - loss: 0.0264 - accuracy: 0.9952 - val_loss: 0.0352 - val_accuracy: 0.9961 - 3s/epoch - 13ms/step\n",
            "Epoch 7/50\n",
            "255/255 - 3s - loss: 0.0197 - accuracy: 0.9952 - val_loss: 0.0461 - val_accuracy: 0.9961 - 3s/epoch - 12ms/step\n",
            "Epoch 8/50\n",
            "Restoring model weights from the end of the best epoch: 3.\n",
            "255/255 - 3s - loss: 0.0161 - accuracy: 0.9952 - val_loss: 0.0463 - val_accuracy: 0.9961 - 3s/epoch - 12ms/step\n",
            "Epoch 8: early stopping\n"
          ]
        }
      ]
    },
    {
      "cell_type": "code",
      "source": [
        "# Check model fitting history data\n",
        "\n",
        "model_history = pd.DataFrame(model_fit.history)\n",
        "model_history.info()"
      ],
      "metadata": {
        "colab": {
          "base_uri": "https://localhost:8080/"
        },
        "id": "fVUUREUbmPCY",
        "outputId": "24c623e1-1c92-4499-9c0f-a363a3f3b850"
      },
      "execution_count": 34,
      "outputs": [
        {
          "output_type": "stream",
          "name": "stdout",
          "text": [
            "<class 'pandas.core.frame.DataFrame'>\n",
            "RangeIndex: 8 entries, 0 to 7\n",
            "Data columns (total 4 columns):\n",
            " #   Column        Non-Null Count  Dtype  \n",
            "---  ------        --------------  -----  \n",
            " 0   loss          8 non-null      float64\n",
            " 1   accuracy      8 non-null      float64\n",
            " 2   val_loss      8 non-null      float64\n",
            " 3   val_accuracy  8 non-null      float64\n",
            "dtypes: float64(4)\n",
            "memory usage: 384.0 bytes\n"
          ]
        }
      ]
    },
    {
      "cell_type": "code",
      "source": [
        "# Accuracy Plot on Training and Validation\n",
        "\n",
        "plt.plot(model_history.accuracy, label = 'train accuracy')\n",
        "plt.plot(model_history.val_accuracy, label = 'validation accuracy')\n",
        "plt.title('Training and Validation Accuracy\\non LSTM Model')\n",
        "plt.xlabel('Epochs')\n",
        "plt.ylabel('Accuracy')\n",
        "plt.legend()"
      ],
      "metadata": {
        "colab": {
          "base_uri": "https://localhost:8080/",
          "height": 511
        },
        "id": "BQpRnCeGnHHp",
        "outputId": "bde5a3b6-24ce-4a75-c4c8-1f5526d669d1"
      },
      "execution_count": 35,
      "outputs": [
        {
          "output_type": "execute_result",
          "data": {
            "text/plain": [
              "<matplotlib.legend.Legend at 0x7f326e3cee00>"
            ]
          },
          "metadata": {},
          "execution_count": 35
        },
        {
          "output_type": "display_data",
          "data": {
            "text/plain": [
              "<Figure size 640x480 with 1 Axes>"
            ],
            "image/png": "[encoded data removed]"
          },
          "metadata": {}
        }
      ]
    },
    {
      "cell_type": "code",
      "source": [
        "# Loss Plot on Training and Validation data\n",
        "\n",
        "plt.plot(model_history.loss, label = 'train loss')\n",
        "plt.plot(model_history.val_loss, label = 'validation loss')\n",
        "plt.title('Loss Plot on LSTM Model')\n",
        "plt.xlabel('Epochs')\n",
        "plt.ylabel('Loss')\n",
        "plt.legend()"
      ],
      "metadata": {
        "colab": {
          "base_uri": "https://localhost:8080/",
          "height": 490
        },
        "id": "evNNiEyWqaGC",
        "outputId": "f8264660-c2ba-4408-ebd7-8103aab71603"
      },
      "execution_count": 36,
      "outputs": [
        {
          "output_type": "execute_result",
          "data": {
            "text/plain": [
              "<matplotlib.legend.Legend at 0x7f326e3cc0a0>"
            ]
          },
          "metadata": {},
          "execution_count": 36
        },
        {
          "output_type": "display_data",
          "data": {
            "text/plain": [
              "<Figure size 640x480 with 1 Axes>"
            ],
            "image/png": "[encoded data removed]"
          },
          "metadata": {}
        }
      ]
    },
    {
      "cell_type": "code",
      "source": [
        "# Check accuracy on training and validation data\n",
        "\n",
        "min_accuracy = 0.75 # 75%\n",
        "\n",
        "print(f'''Training data accuracy pass 75% : {model_history.accuracy.max() > min_accuracy}\n",
        "Validation data accuracy pass 75% : {model_history.val_accuracy.max() > min_accuracy}''')"
      ],
      "metadata": {
        "colab": {
          "base_uri": "https://localhost:8080/"
        },
        "id": "n7-vbUn6pRye",
        "outputId": "13f478ff-f9ec-461c-c355-4f3b21e6b34d"
      },
      "execution_count": 39,
      "outputs": [
        {
          "output_type": "stream",
          "name": "stdout",
          "text": [
            "Training data accuracy pass 75% : True\n",
            "Validation data accuracy pass 75% : True\n"
          ]
        }
      ]
    },
    {
      "cell_type": "code",
      "source": [],
      "metadata": {
        "id": "DbPEYr-spC7m"
      },
      "execution_count": null,
      "outputs": []
    }
  ]
}