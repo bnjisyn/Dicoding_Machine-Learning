{
  "nbformat": 4,
  "nbformat_minor": 0,
  "metadata": {
    "colab": {
      "provenance": []
    },
    "kernelspec": {
      "name": "python3",
      "display_name": "Python 3"
    },
    "language_info": {
      "name": "python"
    }
  },
  "cells": [
    {
      "cell_type": "markdown",
      "source": [
        "# Project Kedua: Membuat Model Machine Learning dengan Data Time Series (LSTM)\n",
        "---\n",
        "---\n",
        "* Nama: Benjamin Nikholas\n",
        "* Email: benjisturi@gmail.com\n",
        "* Nomor Telp : [6287892677303](wa.me/6287892677303)\n",
        "\n",
        "Kriteria Parameter:\n",
        "1. Dataset yang akan dipakai bebas, namun minimal memiliki 1000 sampel.\n",
        "2. Harus menggunakan LSTM dalam arsitektur model.\n",
        "3. Validation set sebesar 20% dari total dataset.\n",
        "4. Model harus menggunakan model sequential.\n",
        "5. Harus menggunakan Learning Rate pada Optimizer.\n",
        "6. MAE < 10% skala data.\n",
        "\n",
        "---\n",
        "\n",
        "Kriteria target nilai sempurna **(bintang 5)**:\n",
        "1. dataset yang digunakan memiliki banyak sampel data (>10000)\n",
        "2. Mengimplementasikan Callback\n",
        "3. Membuat plot loss dan akurasi pada saat training dan validation"
      ],
      "metadata": {
        "id": "sPdX0iywnV_U"
      }
    },
    {
      "cell_type": "markdown",
      "source": [
        "### Library and Packages"
      ],
      "metadata": {
        "id": "S70KMi2cT9q6"
      }
    },
    {
      "cell_type": "code",
      "source": [
        "import os\n",
        "import zipfile\n",
        "from google.colab import files\n",
        "import numpy as np\n",
        "import pandas as pd\n",
        "import matplotlib.pyplot as plt\n",
        "from matplotlib.dates import MonthLocator, DateFormatter\n",
        "plt.rcParams['figure.figsize'] = 15, 6\n",
        "import seaborn as sns\n",
        "import tensorflow as tf\n",
        "from keras import layers\n",
        "from tensorflow.keras import optimizers\n",
        "from tensorflow.keras.models import Sequential\n",
        "import warnings\n",
        "warnings.filterwarnings(\"ignore\")\n",
        "import random\n",
        "from sklearn.utils import check_random_state\n",
        "from sklearn.preprocessing import MinMaxScaler\n",
        "from sklearn.model_selection import train_test_split"
      ],
      "metadata": {
        "id": "W5K-zq28bxMp"
      },
      "execution_count": 3,
      "outputs": []
    },
    {
      "cell_type": "code",
      "source": [
        "# Initialize random number generator to ensure reproducibility\n",
        "\n",
        "def SetSeed(seed:int):\n",
        "    os.environ['PYTHONHASHSEED'] = str(seed)\n",
        "    np.random.seed(seed)\n",
        "    random.seed(seed)\n",
        "    tf.random.set_seed(seed)\n",
        "    check_random_state(seed)"
      ],
      "metadata": {
        "id": "Fl25B62TjIAF"
      },
      "execution_count": 2,
      "outputs": []
    },
    {
      "cell_type": "markdown",
      "source": [
        "### Data Download\n",
        "---\n",
        "Data yang digunakan merupakan data crypto BTC/USDT yang didownload dari [kaggle](https://www.kaggle.com/datasets/tencars/392-crypto-currency-pairs-at-minute-resolution)\n",
        "\n",
        "\n",
        "Link lengkap ada dibawah ini:\n",
        "\n",
        "`https://www.kaggle.com/datasets/tencars/392-crypto-currency-pairs-at-minute-resolution`\n",
        "\n",
        "---"
      ],
      "metadata": {
        "id": "VMoa97P95084"
      }
    },
    {
      "cell_type": "code",
      "source": [
        "# Install API Kaggle in Google Colaboratory\n",
        "!pip install kaggle"
      ],
      "metadata": {
        "colab": {
          "base_uri": "https://localhost:8080/"
        },
        "id": "yCarnAwOxIMx",
        "outputId": "830bc9bc-0e24-43c6-81c6-125a992a97f6"
      },
      "execution_count": 4,
      "outputs": [
        {
          "output_type": "stream",
          "name": "stdout",
          "text": [
            "Requirement already satisfied: kaggle in /usr/local/lib/python3.10/dist-packages (1.5.16)\n",
            "Requirement already satisfied: six>=1.10 in /usr/local/lib/python3.10/dist-packages (from kaggle) (1.16.0)\n",
            "Requirement already satisfied: certifi in /usr/local/lib/python3.10/dist-packages (from kaggle) (2023.11.17)\n",
            "Requirement already satisfied: python-dateutil in /usr/local/lib/python3.10/dist-packages (from kaggle) (2.8.2)\n",
            "Requirement already satisfied: requests in /usr/local/lib/python3.10/dist-packages (from kaggle) (2.31.0)\n",
            "Requirement already satisfied: tqdm in /usr/local/lib/python3.10/dist-packages (from kaggle) (4.66.1)\n",
            "Requirement already satisfied: python-slugify in /usr/local/lib/python3.10/dist-packages (from kaggle) (8.0.1)\n",
            "Requirement already satisfied: urllib3 in /usr/local/lib/python3.10/dist-packages (from kaggle) (2.0.7)\n",
            "Requirement already satisfied: bleach in /usr/local/lib/python3.10/dist-packages (from kaggle) (6.1.0)\n",
            "Requirement already satisfied: webencodings in /usr/local/lib/python3.10/dist-packages (from bleach->kaggle) (0.5.1)\n",
            "Requirement already satisfied: text-unidecode>=1.3 in /usr/local/lib/python3.10/dist-packages (from python-slugify->kaggle) (1.3)\n",
            "Requirement already satisfied: charset-normalizer<4,>=2 in /usr/local/lib/python3.10/dist-packages (from requests->kaggle) (3.3.2)\n",
            "Requirement already satisfied: idna<4,>=2.5 in /usr/local/lib/python3.10/dist-packages (from requests->kaggle) (3.6)\n"
          ]
        }
      ]
    },
    {
      "cell_type": "code",
      "source": [
        "# Upload API JSON File Credential\n",
        "\n",
        "uploaded = files.upload()"
      ],
      "metadata": {
        "colab": {
          "base_uri": "https://localhost:8080/",
          "height": 73
        },
        "id": "Lx8IOCzY4Feu",
        "outputId": "cc686504-8848-485e-e328-926168dc3aea"
      },
      "execution_count": 5,
      "outputs": [
        {
          "output_type": "display_data",
          "data": {
            "text/plain": [
              "<IPython.core.display.HTML object>"
            ],
            "text/html": [
              "\n",
              "     <input type=\"file\" id=\"files-2e357123-ad59-4404-8542-9633c4e0f4d7\" name=\"files[]\" multiple disabled\n",
              "        style=\"border:none\" />\n",
              "     <output id=\"result-2e357123-ad59-4404-8542-9633c4e0f4d7\">\n",
              "      Upload widget is only available when the cell has been executed in the\n",
              "      current browser session. Please rerun this cell to enable.\n",
              "      </output>\n",
              "      <script>// Copyright 2017 Google LLC\n",
              "//\n",
              "// Licensed under the Apache License, Version 2.0 (the \"License\");\n",
              "// you may not use this file except in compliance with the License.\n",
              "// You may obtain a copy of the License at\n",
              "//\n",
              "//      http://www.apache.org/licenses/LICENSE-2.0\n",
              "//\n",
              "// Unless required by applicable law or agreed to in writing, software\n",
              "// distributed under the License is distributed on an \"AS IS\" BASIS,\n",
              "// WITHOUT WARRANTIES OR CONDITIONS OF ANY KIND, either express or implied.\n",
              "// See the License for the specific language governing permissions and\n",
              "// limitations under the License.\n",
              "\n",
              "/**\n",
              " * @fileoverview Helpers for google.colab Python module.\n",
              " */\n",
              "(function(scope) {\n",
              "function span(text, styleAttributes = {}) {\n",
              "  const element = document.createElement('span');\n",
              "  element.textContent = text;\n",
              "  for (const key of Object.keys(styleAttributes)) {\n",
              "    element.style[key] = styleAttributes[key];\n",
              "  }\n",
              "  return element;\n",
              "}\n",
              "\n",
              "// Max number of bytes which will be uploaded at a time.\n",
              "const MAX_PAYLOAD_SIZE = 100 * 1024;\n",
              "\n",
              "function _uploadFiles(inputId, outputId) {\n",
              "  const steps = uploadFilesStep(inputId, outputId);\n",
              "  const outputElement = document.getElementById(outputId);\n",
              "  // Cache steps on the outputElement to make it available for the next call\n",
              "  // to uploadFilesContinue from Python.\n",
              "  outputElement.steps = steps;\n",
              "\n",
              "  return _uploadFilesContinue(outputId);\n",
              "}\n",
              "\n",
              "// This is roughly an async generator (not supported in the browser yet),\n",
              "// where there are multiple asynchronous steps and the Python side is going\n",
              "// to poll for completion of each step.\n",
              "// This uses a Promise to block the python side on completion of each step,\n",
              "// then passes the result of the previous step as the input to the next step.\n",
              "function _uploadFilesContinue(outputId) {\n",
              "  const outputElement = document.getElementById(outputId);\n",
              "  const steps = outputElement.steps;\n",
              "\n",
              "  const next = steps.next(outputElement.lastPromiseValue);\n",
              "  return Promise.resolve(next.value.promise).then((value) => {\n",
              "    // Cache the last promise value to make it available to the next\n",
              "    // step of the generator.\n",
              "    outputElement.lastPromiseValue = value;\n",
              "    return next.value.response;\n",
              "  });\n",
              "}\n",
              "\n",
              "/**\n",
              " * Generator function which is called between each async step of the upload\n",
              " * process.\n",
              " * @param {string} inputId Element ID of the input file picker element.\n",
              " * @param {string} outputId Element ID of the output display.\n",
              " * @return {!Iterable<!Object>} Iterable of next steps.\n",
              " */\n",
              "function* uploadFilesStep(inputId, outputId) {\n",
              "  const inputElement = document.getElementById(inputId);\n",
              "  inputElement.disabled = false;\n",
              "\n",
              "  const outputElement = document.getElementById(outputId);\n",
              "  outputElement.innerHTML = '';\n",
              "\n",
              "  const pickedPromise = new Promise((resolve) => {\n",
              "    inputElement.addEventListener('change', (e) => {\n",
              "      resolve(e.target.files);\n",
              "    });\n",
              "  });\n",
              "\n",
              "  const cancel = document.createElement('button');\n",
              "  inputElement.parentElement.appendChild(cancel);\n",
              "  cancel.textContent = 'Cancel upload';\n",
              "  const cancelPromise = new Promise((resolve) => {\n",
              "    cancel.onclick = () => {\n",
              "      resolve(null);\n",
              "    };\n",
              "  });\n",
              "\n",
              "  // Wait for the user to pick the files.\n",
              "  const files = yield {\n",
              "    promise: Promise.race([pickedPromise, cancelPromise]),\n",
              "    response: {\n",
              "      action: 'starting',\n",
              "    }\n",
              "  };\n",
              "\n",
              "  cancel.remove();\n",
              "\n",
              "  // Disable the input element since further picks are not allowed.\n",
              "  inputElement.disabled = true;\n",
              "\n",
              "  if (!files) {\n",
              "    return {\n",
              "      response: {\n",
              "        action: 'complete',\n",
              "      }\n",
              "    };\n",
              "  }\n",
              "\n",
              "  for (const file of files) {\n",
              "    const li = document.createElement('li');\n",
              "    li.append(span(file.name, {fontWeight: 'bold'}));\n",
              "    li.append(span(\n",
              "        `(${file.type || 'n/a'}) - ${file.size} bytes, ` +\n",
              "        `last modified: ${\n",
              "            file.lastModifiedDate ? file.lastModifiedDate.toLocaleDateString() :\n",
              "                                    'n/a'} - `));\n",
              "    const percent = span('0% done');\n",
              "    li.appendChild(percent);\n",
              "\n",
              "    outputElement.appendChild(li);\n",
              "\n",
              "    const fileDataPromise = new Promise((resolve) => {\n",
              "      const reader = new FileReader();\n",
              "      reader.onload = (e) => {\n",
              "        resolve(e.target.result);\n",
              "      };\n",
              "      reader.readAsArrayBuffer(file);\n",
              "    });\n",
              "    // Wait for the data to be ready.\n",
              "    let fileData = yield {\n",
              "      promise: fileDataPromise,\n",
              "      response: {\n",
              "        action: 'continue',\n",
              "      }\n",
              "    };\n",
              "\n",
              "    // Use a chunked sending to avoid message size limits. See b/62115660.\n",
              "    let position = 0;\n",
              "    do {\n",
              "      const length = Math.min(fileData.byteLength - position, MAX_PAYLOAD_SIZE);\n",
              "      const chunk = new Uint8Array(fileData, position, length);\n",
              "      position += length;\n",
              "\n",
              "      const base64 = btoa(String.fromCharCode.apply(null, chunk));\n",
              "      yield {\n",
              "        response: {\n",
              "          action: 'append',\n",
              "          file: file.name,\n",
              "          data: base64,\n",
              "        },\n",
              "      };\n",
              "\n",
              "      let percentDone = fileData.byteLength === 0 ?\n",
              "          100 :\n",
              "          Math.round((position / fileData.byteLength) * 100);\n",
              "      percent.textContent = `${percentDone}% done`;\n",
              "\n",
              "    } while (position < fileData.byteLength);\n",
              "  }\n",
              "\n",
              "  // All done.\n",
              "  yield {\n",
              "    response: {\n",
              "      action: 'complete',\n",
              "    }\n",
              "  };\n",
              "}\n",
              "\n",
              "scope.google = scope.google || {};\n",
              "scope.google.colab = scope.google.colab || {};\n",
              "scope.google.colab._files = {\n",
              "  _uploadFiles,\n",
              "  _uploadFilesContinue,\n",
              "};\n",
              "})(self);\n",
              "</script> "
            ]
          },
          "metadata": {}
        },
        {
          "output_type": "stream",
          "name": "stdout",
          "text": [
            "Saving kaggle.json to kaggle.json\n"
          ]
        }
      ]
    },
    {
      "cell_type": "code",
      "source": [
        "# Move JSON File and giving access\n",
        "\n",
        "!mkdir -p ~/.kaggle\n",
        "!mv kaggle.json ~/.kaggle/\n",
        "!chmod 600 ~/.kaggle/kaggle.json"
      ],
      "metadata": {
        "id": "3-mz2OVO4Him"
      },
      "execution_count": 6,
      "outputs": []
    },
    {
      "cell_type": "code",
      "source": [
        "# Download ADA/USD Dataset\n",
        "\n",
        "!kaggle datasets download -d prasoonkottarathil/btcinusd --file BTC-Hourly.csv\n",
        "# !kaggle datasets download -d tencars/392-crypto-currency-pairs-at-minute-resolution --file adausd.csv"
      ],
      "metadata": {
        "colab": {
          "base_uri": "https://localhost:8080/"
        },
        "id": "i51Mxi0A46lJ",
        "outputId": "63b88851-404b-4754-cbcd-03bcdc896736"
      },
      "execution_count": 7,
      "outputs": [
        {
          "output_type": "stream",
          "name": "stdout",
          "text": [
            "Downloading BTC-Hourly.csv.zip to /content\n",
            " 97% 1.00M/1.04M [00:00<00:00, 1.23MB/s]\n",
            "100% 1.04M/1.04M [00:00<00:00, 1.27MB/s]\n"
          ]
        }
      ]
    },
    {
      "cell_type": "code",
      "source": [
        "# Unzip zip file\n",
        "\n",
        "with zipfile.ZipFile('/content/BTC-Hourly.csv.zip', 'r') as zip_ref:\n",
        "    zip_ref.extractall('/content')\n",
        "\n",
        "os.listdir('/content')"
      ],
      "metadata": {
        "colab": {
          "base_uri": "https://localhost:8080/"
        },
        "id": "60isNe9J5FLv",
        "outputId": "b9cb0d31-4bfb-49e7-f0ac-56249cd2bc80"
      },
      "execution_count": 8,
      "outputs": [
        {
          "output_type": "execute_result",
          "data": {
            "text/plain": [
              "['.config', 'BTC-Hourly.csv', 'BTC-Hourly.csv.zip', 'sample_data']"
            ]
          },
          "metadata": {},
          "execution_count": 8
        }
      ]
    },
    {
      "cell_type": "markdown",
      "source": [
        "### Exploratory Data Analysis"
      ],
      "metadata": {
        "id": "mwXH9cNGZlay"
      }
    },
    {
      "cell_type": "code",
      "source": [
        "df = pd.read_csv('/content/BTC-Hourly.csv')\n",
        "df.info()"
      ],
      "metadata": {
        "colab": {
          "base_uri": "https://localhost:8080/"
        },
        "id": "3qFcXyQq4dve",
        "outputId": "57a58e78-87fc-471a-a057-34cc1a46672f"
      },
      "execution_count": 9,
      "outputs": [
        {
          "output_type": "stream",
          "name": "stdout",
          "text": [
            "<class 'pandas.core.frame.DataFrame'>\n",
            "RangeIndex: 33259 entries, 0 to 33258\n",
            "Data columns (total 9 columns):\n",
            " #   Column      Non-Null Count  Dtype  \n",
            "---  ------      --------------  -----  \n",
            " 0   unix        33259 non-null  int64  \n",
            " 1   date        33259 non-null  object \n",
            " 2   symbol      33259 non-null  object \n",
            " 3   open        33259 non-null  float64\n",
            " 4   high        33259 non-null  float64\n",
            " 5   low         33259 non-null  float64\n",
            " 6   close       33259 non-null  float64\n",
            " 7   Volume BTC  33259 non-null  float64\n",
            " 8   Volume USD  33259 non-null  float64\n",
            "dtypes: float64(6), int64(1), object(2)\n",
            "memory usage: 2.3+ MB\n"
          ]
        }
      ]
    },
    {
      "cell_type": "code",
      "source": [
        "# Convert 'date' columns dtype to 'datetime'\n",
        "df['date'] = pd.to_datetime(df['date'])\n",
        "\n",
        "# Sorting date\n",
        "df.sort_values('date', inplace = True)\n",
        "\n",
        "# Data will be taken from early 2019 to late 2021\n",
        "\n",
        "start_date = pd.to_datetime('2019-01-01 00:00:00')\n",
        "# start_date = pd.to_datetime('2018-05-15 06:00:00')\n",
        "end_date = pd.to_datetime('2022-01-01 00:00:00')\n",
        "# end_date = pd.to_datetime('2022-03-01 00:00:00')\n",
        "\n",
        "df = df[(df['date'] >= start_date) & (df['date'] < end_date)]\n",
        "\n",
        "# Set 'date' column to be the index\n",
        "df.set_index('date', inplace = True)\n",
        "\n",
        "# Drop all columns except column 'open'\n",
        "df = pd.DataFrame(df.iloc[:,2])\n",
        "\n",
        "# Check data\n",
        "df.head(5)"
      ],
      "metadata": {
        "colab": {
          "base_uri": "https://localhost:8080/",
          "height": 237
        },
        "id": "sAzfhLIj4lSO",
        "outputId": "0ec374cc-1992-4753-e63a-913d68237a6e"
      },
      "execution_count": 10,
      "outputs": [
        {
          "output_type": "execute_result",
          "data": {
            "text/plain": [
              "                        open\n",
              "date                        \n",
              "2019-01-01 00:00:00  3693.30\n",
              "2019-01-01 01:00:00  3693.83\n",
              "2019-01-01 02:00:00  3681.18\n",
              "2019-01-01 03:00:00  3678.24\n",
              "2019-01-01 04:00:00  3681.10"
            ],
            "text/html": [
              "\n",
              "  <div id=\"df-317b29b8-0426-4136-9981-d703ce7cf5ad\" class=\"colab-df-container\">\n",
              "    <div>\n",
              "<style scoped>\n",
              "    .dataframe tbody tr th:only-of-type {\n",
              "        vertical-align: middle;\n",
              "    }\n",
              "\n",
              "    .dataframe tbody tr th {\n",
              "        vertical-align: top;\n",
              "    }\n",
              "\n",
              "    .dataframe thead th {\n",
              "        text-align: right;\n",
              "    }\n",
              "</style>\n",
              "<table border=\"1\" class=\"dataframe\">\n",
              "  <thead>\n",
              "    <tr style=\"text-align: right;\">\n",
              "      <th></th>\n",
              "      <th>open</th>\n",
              "    </tr>\n",
              "    <tr>\n",
              "      <th>date</th>\n",
              "      <th></th>\n",
              "    </tr>\n",
              "  </thead>\n",
              "  <tbody>\n",
              "    <tr>\n",
              "      <th>2019-01-01 00:00:00</th>\n",
              "      <td>3693.30</td>\n",
              "    </tr>\n",
              "    <tr>\n",
              "      <th>2019-01-01 01:00:00</th>\n",
              "      <td>3693.83</td>\n",
              "    </tr>\n",
              "    <tr>\n",
              "      <th>2019-01-01 02:00:00</th>\n",
              "      <td>3681.18</td>\n",
              "    </tr>\n",
              "    <tr>\n",
              "      <th>2019-01-01 03:00:00</th>\n",
              "      <td>3678.24</td>\n",
              "    </tr>\n",
              "    <tr>\n",
              "      <th>2019-01-01 04:00:00</th>\n",
              "      <td>3681.10</td>\n",
              "    </tr>\n",
              "  </tbody>\n",
              "</table>\n",
              "</div>\n",
              "    <div class=\"colab-df-buttons\">\n",
              "\n",
              "  <div class=\"colab-df-container\">\n",
              "    <button class=\"colab-df-convert\" onclick=\"convertToInteractive('df-317b29b8-0426-4136-9981-d703ce7cf5ad')\"\n",
              "            title=\"Convert this dataframe to an interactive table.\"\n",
              "            style=\"display:none;\">\n",
              "\n",
              "  <svg xmlns=\"http://www.w3.org/2000/svg\" height=\"24px\" viewBox=\"0 -960 960 960\">\n",
              "    <path d=\"M120-120v-720h720v720H120Zm60-500h600v-160H180v160Zm220 220h160v-160H400v160Zm0 220h160v-160H400v160ZM180-400h160v-160H180v160Zm440 0h160v-160H620v160ZM180-180h160v-160H180v160Zm440 0h160v-160H620v160Z\"/>\n",
              "  </svg>\n",
              "    </button>\n",
              "\n",
              "  <style>\n",
              "    .colab-df-container {\n",
              "      display:flex;\n",
              "      gap: 12px;\n",
              "    }\n",
              "\n",
              "    .colab-df-convert {\n",
              "      background-color: #E8F0FE;\n",
              "      border: none;\n",
              "      border-radius: 50%;\n",
              "      cursor: pointer;\n",
              "      display: none;\n",
              "      fill: #1967D2;\n",
              "      height: 32px;\n",
              "      padding: 0 0 0 0;\n",
              "      width: 32px;\n",
              "    }\n",
              "\n",
              "    .colab-df-convert:hover {\n",
              "      background-color: #E2EBFA;\n",
              "      box-shadow: 0px 1px 2px rgba(60, 64, 67, 0.3), 0px 1px 3px 1px rgba(60, 64, 67, 0.15);\n",
              "      fill: #174EA6;\n",
              "    }\n",
              "\n",
              "    .colab-df-buttons div {\n",
              "      margin-bottom: 4px;\n",
              "    }\n",
              "\n",
              "    [theme=dark] .colab-df-convert {\n",
              "      background-color: #3B4455;\n",
              "      fill: #D2E3FC;\n",
              "    }\n",
              "\n",
              "    [theme=dark] .colab-df-convert:hover {\n",
              "      background-color: #434B5C;\n",
              "      box-shadow: 0px 1px 3px 1px rgba(0, 0, 0, 0.15);\n",
              "      filter: drop-shadow(0px 1px 2px rgba(0, 0, 0, 0.3));\n",
              "      fill: #FFFFFF;\n",
              "    }\n",
              "  </style>\n",
              "\n",
              "    <script>\n",
              "      const buttonEl =\n",
              "        document.querySelector('#df-317b29b8-0426-4136-9981-d703ce7cf5ad button.colab-df-convert');\n",
              "      buttonEl.style.display =\n",
              "        google.colab.kernel.accessAllowed ? 'block' : 'none';\n",
              "\n",
              "      async function convertToInteractive(key) {\n",
              "        const element = document.querySelector('#df-317b29b8-0426-4136-9981-d703ce7cf5ad');\n",
              "        const dataTable =\n",
              "          await google.colab.kernel.invokeFunction('convertToInteractive',\n",
              "                                                    [key], {});\n",
              "        if (!dataTable) return;\n",
              "\n",
              "        const docLinkHtml = 'Like what you see? Visit the ' +\n",
              "          '<a target=\"_blank\" href=https://colab.research.google.com/notebooks/data_table.ipynb>data table notebook</a>'\n",
              "          + ' to learn more about interactive tables.';\n",
              "        element.innerHTML = '';\n",
              "        dataTable['output_type'] = 'display_data';\n",
              "        await google.colab.output.renderOutput(dataTable, element);\n",
              "        const docLink = document.createElement('div');\n",
              "        docLink.innerHTML = docLinkHtml;\n",
              "        element.appendChild(docLink);\n",
              "      }\n",
              "    </script>\n",
              "  </div>\n",
              "\n",
              "\n",
              "<div id=\"df-1adb0bbb-ead7-4fe8-8b58-0d7e02a036f7\">\n",
              "  <button class=\"colab-df-quickchart\" onclick=\"quickchart('df-1adb0bbb-ead7-4fe8-8b58-0d7e02a036f7')\"\n",
              "            title=\"Suggest charts\"\n",
              "            style=\"display:none;\">\n",
              "\n",
              "<svg xmlns=\"http://www.w3.org/2000/svg\" height=\"24px\"viewBox=\"0 0 24 24\"\n",
              "     width=\"24px\">\n",
              "    <g>\n",
              "        <path d=\"M19 3H5c-1.1 0-2 .9-2 2v14c0 1.1.9 2 2 2h14c1.1 0 2-.9 2-2V5c0-1.1-.9-2-2-2zM9 17H7v-7h2v7zm4 0h-2V7h2v10zm4 0h-2v-4h2v4z\"/>\n",
              "    </g>\n",
              "</svg>\n",
              "  </button>\n",
              "\n",
              "<style>\n",
              "  .colab-df-quickchart {\n",
              "      --bg-color: #E8F0FE;\n",
              "      --fill-color: #1967D2;\n",
              "      --hover-bg-color: #E2EBFA;\n",
              "      --hover-fill-color: #174EA6;\n",
              "      --disabled-fill-color: #AAA;\n",
              "      --disabled-bg-color: #DDD;\n",
              "  }\n",
              "\n",
              "  [theme=dark] .colab-df-quickchart {\n",
              "      --bg-color: #3B4455;\n",
              "      --fill-color: #D2E3FC;\n",
              "      --hover-bg-color: #434B5C;\n",
              "      --hover-fill-color: #FFFFFF;\n",
              "      --disabled-bg-color: #3B4455;\n",
              "      --disabled-fill-color: #666;\n",
              "  }\n",
              "\n",
              "  .colab-df-quickchart {\n",
              "    background-color: var(--bg-color);\n",
              "    border: none;\n",
              "    border-radius: 50%;\n",
              "    cursor: pointer;\n",
              "    display: none;\n",
              "    fill: var(--fill-color);\n",
              "    height: 32px;\n",
              "    padding: 0;\n",
              "    width: 32px;\n",
              "  }\n",
              "\n",
              "  .colab-df-quickchart:hover {\n",
              "    background-color: var(--hover-bg-color);\n",
              "    box-shadow: 0 1px 2px rgba(60, 64, 67, 0.3), 0 1px 3px 1px rgba(60, 64, 67, 0.15);\n",
              "    fill: var(--button-hover-fill-color);\n",
              "  }\n",
              "\n",
              "  .colab-df-quickchart-complete:disabled,\n",
              "  .colab-df-quickchart-complete:disabled:hover {\n",
              "    background-color: var(--disabled-bg-color);\n",
              "    fill: var(--disabled-fill-color);\n",
              "    box-shadow: none;\n",
              "  }\n",
              "\n",
              "  .colab-df-spinner {\n",
              "    border: 2px solid var(--fill-color);\n",
              "    border-color: transparent;\n",
              "    border-bottom-color: var(--fill-color);\n",
              "    animation:\n",
              "      spin 1s steps(1) infinite;\n",
              "  }\n",
              "\n",
              "  @keyframes spin {\n",
              "    0% {\n",
              "      border-color: transparent;\n",
              "      border-bottom-color: var(--fill-color);\n",
              "      border-left-color: var(--fill-color);\n",
              "    }\n",
              "    20% {\n",
              "      border-color: transparent;\n",
              "      border-left-color: var(--fill-color);\n",
              "      border-top-color: var(--fill-color);\n",
              "    }\n",
              "    30% {\n",
              "      border-color: transparent;\n",
              "      border-left-color: var(--fill-color);\n",
              "      border-top-color: var(--fill-color);\n",
              "      border-right-color: var(--fill-color);\n",
              "    }\n",
              "    40% {\n",
              "      border-color: transparent;\n",
              "      border-right-color: var(--fill-color);\n",
              "      border-top-color: var(--fill-color);\n",
              "    }\n",
              "    60% {\n",
              "      border-color: transparent;\n",
              "      border-right-color: var(--fill-color);\n",
              "    }\n",
              "    80% {\n",
              "      border-color: transparent;\n",
              "      border-right-color: var(--fill-color);\n",
              "      border-bottom-color: var(--fill-color);\n",
              "    }\n",
              "    90% {\n",
              "      border-color: transparent;\n",
              "      border-bottom-color: var(--fill-color);\n",
              "    }\n",
              "  }\n",
              "</style>\n",
              "\n",
              "  <script>\n",
              "    async function quickchart(key) {\n",
              "      const quickchartButtonEl =\n",
              "        document.querySelector('#' + key + ' button');\n",
              "      quickchartButtonEl.disabled = true;  // To prevent multiple clicks.\n",
              "      quickchartButtonEl.classList.add('colab-df-spinner');\n",
              "      try {\n",
              "        const charts = await google.colab.kernel.invokeFunction(\n",
              "            'suggestCharts', [key], {});\n",
              "      } catch (error) {\n",
              "        console.error('Error during call to suggestCharts:', error);\n",
              "      }\n",
              "      quickchartButtonEl.classList.remove('colab-df-spinner');\n",
              "      quickchartButtonEl.classList.add('colab-df-quickchart-complete');\n",
              "    }\n",
              "    (() => {\n",
              "      let quickchartButtonEl =\n",
              "        document.querySelector('#df-1adb0bbb-ead7-4fe8-8b58-0d7e02a036f7 button');\n",
              "      quickchartButtonEl.style.display =\n",
              "        google.colab.kernel.accessAllowed ? 'block' : 'none';\n",
              "    })();\n",
              "  </script>\n",
              "</div>\n",
              "    </div>\n",
              "  </div>\n"
            ]
          },
          "metadata": {},
          "execution_count": 10
        }
      ]
    },
    {
      "cell_type": "code",
      "source": [
        "# Check new data info\n",
        "\n",
        "df.info()"
      ],
      "metadata": {
        "colab": {
          "base_uri": "https://localhost:8080/"
        },
        "id": "KD32Bd2U9GCH",
        "outputId": "9bdf1327-b030-448c-fdc0-ca7445e973d6"
      },
      "execution_count": 11,
      "outputs": [
        {
          "output_type": "stream",
          "name": "stdout",
          "text": [
            "<class 'pandas.core.frame.DataFrame'>\n",
            "DatetimeIndex: 26304 entries, 2019-01-01 00:00:00 to 2021-12-31 23:00:00\n",
            "Data columns (total 1 columns):\n",
            " #   Column  Non-Null Count  Dtype  \n",
            "---  ------  --------------  -----  \n",
            " 0   open    26304 non-null  float64\n",
            "dtypes: float64(1)\n",
            "memory usage: 411.0 KB\n"
          ]
        }
      ]
    },
    {
      "cell_type": "code",
      "source": [
        "plt.plot(df)\n",
        "\n",
        "# Menambahkan x-ticks per bulan\n",
        "plt.gca().xaxis.set_major_locator(MonthLocator())\n",
        "plt.gca().xaxis.set_major_formatter(DateFormatter('%b %Y'))\n",
        "plt.xticks(rotation=50)\n",
        "plt.title('BTC/USDT Crypto Data\\n2019-2021')\n",
        "plt.xlabel('Datetime', fontsize = 10)\n",
        "plt.ylabel('Price', fontsize = 10)\n",
        "plt.show()"
      ],
      "metadata": {
        "colab": {
          "base_uri": "https://localhost:8080/",
          "height": 632
        },
        "id": "uf2OU6cNd50Y",
        "outputId": "71a5f91c-3ad3-4087-df6c-1ac6ece11a2f"
      },
      "execution_count": 12,
      "outputs": [
        {
          "output_type": "display_data",
          "data": {
            "text/plain": [
              "<Figure size 1500x600 with 1 Axes>"
            ],
            "image/png": "[encoded data removed]"
          },
          "metadata": {}
        }
      ]
    },
    {
      "cell_type": "code",
      "source": [
        "# Normalize Dataset with MinMaxScaler\n",
        "\n",
        "Scaler = MinMaxScaler(feature_range = (0, 1))\n",
        "df_scaled = pd.DataFrame(Scaler.fit_transform(df))\n",
        "\n",
        "# Sequencing Data\n",
        "\n",
        "X, y = [], []\n",
        "time_steps = 1\n",
        "for i in range(len(df_scaled) - time_steps):\n",
        "  X.append(df_scaled.iloc[i: (i + time_steps)].values)\n",
        "  y.append(df_scaled.iloc[i + time_steps])\n",
        "\n",
        "X, y = np.array(X), np.array(y)\n",
        "\n",
        "# Split data to train (80%) and validation (20%)\n",
        "\n",
        "X_train, X_val, y_train, y_val = train_test_split(X, y,\n",
        "                                                  train_size = 0.8,\n",
        "                                                  shuffle = False)"
      ],
      "metadata": {
        "id": "uHKrKtMQsHzA"
      },
      "execution_count": 13,
      "outputs": []
    },
    {
      "cell_type": "code",
      "source": [
        "# Check X y train and validation data shape\n",
        "\n",
        "print(X_train.shape)\n",
        "print(y_train.shape)\n",
        "print(X_val.shape)\n",
        "print(y_val.shape)"
      ],
      "metadata": {
        "colab": {
          "base_uri": "https://localhost:8080/"
        },
        "id": "sXyhckOkNri0",
        "outputId": "4246b566-ce50-4c64-c27f-56bf275ec0f4"
      },
      "execution_count": 14,
      "outputs": [
        {
          "output_type": "stream",
          "name": "stdout",
          "text": [
            "(21042, 1, 1)\n",
            "(21042, 1)\n",
            "(5261, 1, 1)\n",
            "(5261, 1)\n"
          ]
        }
      ]
    },
    {
      "cell_type": "code",
      "source": [
        "# Initialize threshold mae (10% data)\n",
        "\n",
        "threshold_mae = (df_scaled.max().values - df_scaled.min().values) * 0.1\n",
        "print(f'threshold_mae 10% value: {threshold_mae}')"
      ],
      "metadata": {
        "colab": {
          "base_uri": "https://localhost:8080/"
        },
        "id": "Vs_fISekuBOf",
        "outputId": "3f53fabe-5958-44cf-a81f-90dcab9d489a"
      },
      "execution_count": 15,
      "outputs": [
        {
          "output_type": "stream",
          "name": "stdout",
          "text": [
            "threshold_mae 10% value: [0.1]\n"
          ]
        }
      ]
    },
    {
      "cell_type": "markdown",
      "source": [
        "### LSTM Modeling"
      ],
      "metadata": {
        "id": "3GCmUnnQr8vF"
      }
    },
    {
      "cell_type": "code",
      "source": [
        "# LSTM Model\n",
        "\n",
        "SetSeed(2024)\n",
        "\n",
        "model = Sequential([\n",
        "\n",
        "    # Add LSTM Layer\n",
        "    layers.LSTM(128,\n",
        "                return_sequences = True,\n",
        "                input_shape=(None, 1)),\n",
        "    layers.LSTM(64),\n",
        "\n",
        "    # Add Fully Connected Layer\n",
        "    layers.Dense(64,\n",
        "                 activation = 'relu'),\n",
        "    layers.Dropout(0.1),\n",
        "    layers.Dense(32,\n",
        "                 activation = 'relu'),\n",
        "    layers.Dense(1,\n",
        "                 activation = 'linear')\n",
        "])"
      ],
      "metadata": {
        "id": "HM-Wc8Txhpub"
      },
      "execution_count": 16,
      "outputs": []
    },
    {
      "cell_type": "code",
      "source": [
        "# Set up Optimizers\n",
        "\n",
        "SetSeed(2024)\n",
        "\n",
        "# Adam Optimizer\n",
        "adam = optimizers.Adam(learning_rate = 0.001)\n",
        "SGD = optimizers.SGD(learning_rate = 0.1,\n",
        "                     momentum = 0.9)\n",
        "\n",
        "# Implement Callbacks\n",
        "\n",
        "EarlyStop = tf.keras.callbacks.EarlyStopping(\n",
        "    monitor = 'mae',\n",
        "    min_delta = 0.001,\n",
        "    verbose = 1,\n",
        "    patience = 5,\n",
        "    restore_best_weights = True,\n",
        "    mode = 'min'\n",
        ")"
      ],
      "metadata": {
        "id": "Jk6nSA_Cicws"
      },
      "execution_count": 17,
      "outputs": []
    },
    {
      "cell_type": "code",
      "source": [
        "# Model Compiling\n",
        "\n",
        "model.compile(loss = tf.keras.losses.Huber(),\n",
        "              optimizer = SGD,\n",
        "              metrics = ['mae'])"
      ],
      "metadata": {
        "id": "pwtnmiBztal6"
      },
      "execution_count": 18,
      "outputs": []
    },
    {
      "cell_type": "code",
      "source": [
        "# Fitting Model\n",
        "\n",
        "model_fit = model.fit(X_train, y_train,\n",
        "                      validation_data = (X_val, y_val),\n",
        "                      epochs = 10,\n",
        "                      verbose = 1,\n",
        "                      callbacks = [EarlyStop],\n",
        "                      batch_size = 128)"
      ],
      "metadata": {
        "colab": {
          "base_uri": "https://localhost:8080/"
        },
        "id": "ePYb5mU7tcHN",
        "outputId": "27bccd03-3873-4f76-c2c4-e0f1ae418ba0"
      },
      "execution_count": 19,
      "outputs": [
        {
          "output_type": "stream",
          "name": "stdout",
          "text": [
            "Epoch 1/10\n",
            "165/165 [==============================] - 7s 18ms/step - loss: 0.0269 - mae: 0.1691 - val_loss: 0.1025 - val_mae: 0.4318\n",
            "Epoch 2/10\n",
            "165/165 [==============================] - 2s 10ms/step - loss: 0.0091 - mae: 0.0793 - val_loss: 7.2076e-05 - val_mae: 0.0078\n",
            "Epoch 3/10\n",
            "165/165 [==============================] - 2s 9ms/step - loss: 1.6003e-04 - mae: 0.0101 - val_loss: 1.4360e-04 - val_mae: 0.0137\n",
            "Epoch 4/10\n",
            "165/165 [==============================] - 2s 14ms/step - loss: 1.4796e-04 - mae: 0.0101 - val_loss: 1.3239e-04 - val_mae: 0.0124\n",
            "Epoch 5/10\n",
            "165/165 [==============================] - 3s 15ms/step - loss: 1.3640e-04 - mae: 0.0098 - val_loss: 1.5367e-04 - val_mae: 0.0125\n",
            "Epoch 6/10\n",
            "165/165 [==============================] - 2s 11ms/step - loss: 1.3284e-04 - mae: 0.0097 - val_loss: 1.4172e-04 - val_mae: 0.0142\n",
            "Epoch 7/10\n",
            "165/165 [==============================] - 2s 10ms/step - loss: 1.3458e-04 - mae: 0.0097 - val_loss: 1.3631e-04 - val_mae: 0.0139\n",
            "Epoch 8/10\n",
            "160/165 [============================>.] - ETA: 0s - loss: 1.2690e-04 - mae: 0.0095Restoring model weights from the end of the best epoch: 3.\n",
            "165/165 [==============================] - 2s 10ms/step - loss: 1.2688e-04 - mae: 0.0095 - val_loss: 1.6020e-04 - val_mae: 0.0151\n",
            "Epoch 8: early stopping\n"
          ]
        }
      ]
    },
    {
      "cell_type": "code",
      "source": [
        "# Check model fitting history data\n",
        "\n",
        "history = pd.DataFrame(model_fit.history)\n",
        "history.info()"
      ],
      "metadata": {
        "colab": {
          "base_uri": "https://localhost:8080/"
        },
        "id": "AsLzG8_fTSzy",
        "outputId": "4c2b9b1b-2223-4cd7-f2ca-b761af44bdca"
      },
      "execution_count": 20,
      "outputs": [
        {
          "output_type": "stream",
          "name": "stdout",
          "text": [
            "<class 'pandas.core.frame.DataFrame'>\n",
            "RangeIndex: 8 entries, 0 to 7\n",
            "Data columns (total 4 columns):\n",
            " #   Column    Non-Null Count  Dtype  \n",
            "---  ------    --------------  -----  \n",
            " 0   loss      8 non-null      float64\n",
            " 1   mae       8 non-null      float64\n",
            " 2   val_loss  8 non-null      float64\n",
            " 3   val_mae   8 non-null      float64\n",
            "dtypes: float64(4)\n",
            "memory usage: 384.0 bytes\n"
          ]
        }
      ]
    },
    {
      "cell_type": "code",
      "source": [
        "plt.plot(history.mae)"
      ],
      "metadata": {
        "colab": {
          "base_uri": "https://localhost:8080/",
          "height": 540
        },
        "id": "g_d7EMMATVMJ",
        "outputId": "50f4aaf2-c608-4c7d-93f9-7bcbfa4e1fc2"
      },
      "execution_count": 21,
      "outputs": [
        {
          "output_type": "execute_result",
          "data": {
            "text/plain": [
              "[<matplotlib.lines.Line2D at 0x7abe05e34460>]"
            ]
          },
          "metadata": {},
          "execution_count": 21
        },
        {
          "output_type": "display_data",
          "data": {
            "text/plain": [
              "<Figure size 1500x600 with 1 Axes>"
            ],
            "image/png": "[encoded data removed]"
          },
          "metadata": {}
        }
      ]
    },
    {
      "cell_type": "code",
      "source": [
        "# Check threshold mae test\n",
        "\n",
        "print(f'MAE Best value < Threshold Mae 10% : {history.mae.min() < threshold_mae}')"
      ],
      "metadata": {
        "colab": {
          "base_uri": "https://localhost:8080/"
        },
        "id": "BLaMqJcJYts1",
        "outputId": "7214e4ff-aadc-44ca-d02e-ed7263ac8785"
      },
      "execution_count": 22,
      "outputs": [
        {
          "output_type": "stream",
          "name": "stdout",
          "text": [
            "MAE Best value < Threshold Mae 10% : [ True]\n"
          ]
        }
      ]
    },
    {
      "cell_type": "code",
      "source": [],
      "metadata": {
        "id": "SFlXZbbxN4y8"
      },
      "execution_count": null,
      "outputs": []
    }
  ]
}